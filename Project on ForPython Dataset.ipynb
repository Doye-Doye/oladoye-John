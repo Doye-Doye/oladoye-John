{
 "cells": [
  {
   "cell_type": "code",
   "execution_count": 47,
   "id": "c5f71461-b6f0-409a-a469-0488b6c16a42",
   "metadata": {},
   "outputs": [],
   "source": [
    "import pandas as pd\n",
    "import numpy as np\n",
    "import matplotlib.pyplot as plt\n",
    "import seaborn as sns"
   ]
  },
  {
   "cell_type": "markdown",
   "id": "900ba61a-b971-4ce8-9be5-c8eb2b3f8c7c",
   "metadata": {},
   "source": [
    "#### Bringing file into jupyter notebook"
   ]
  },
  {
   "cell_type": "code",
   "execution_count": 48,
   "id": "76e25409-c8fe-49a3-92cb-3f1f5c651a05",
   "metadata": {},
   "outputs": [
    {
     "data": {
      "text/html": [
       "<div>\n",
       "<style scoped>\n",
       "    .dataframe tbody tr th:only-of-type {\n",
       "        vertical-align: middle;\n",
       "    }\n",
       "\n",
       "    .dataframe tbody tr th {\n",
       "        vertical-align: top;\n",
       "    }\n",
       "\n",
       "    .dataframe thead th {\n",
       "        text-align: right;\n",
       "    }\n",
       "</style>\n",
       "<table border=\"1\" class=\"dataframe\">\n",
       "  <thead>\n",
       "    <tr style=\"text-align: right;\">\n",
       "      <th></th>\n",
       "      <th>ID</th>\n",
       "      <th>Marital Status</th>\n",
       "      <th>Gender</th>\n",
       "      <th>Income</th>\n",
       "      <th>Children</th>\n",
       "      <th>Education</th>\n",
       "      <th>Occupation</th>\n",
       "      <th>Home Owner</th>\n",
       "      <th>Cars</th>\n",
       "      <th>Commute Distance</th>\n",
       "      <th>Region</th>\n",
       "      <th>Age</th>\n",
       "      <th>Purchased Bike</th>\n",
       "    </tr>\n",
       "  </thead>\n",
       "  <tbody>\n",
       "    <tr>\n",
       "      <th>0</th>\n",
       "      <td>12496</td>\n",
       "      <td>M</td>\n",
       "      <td>F</td>\n",
       "      <td>$40,000.00</td>\n",
       "      <td>1</td>\n",
       "      <td>Bachelors</td>\n",
       "      <td>Skilled Manual</td>\n",
       "      <td>Yes</td>\n",
       "      <td>0</td>\n",
       "      <td>0-1 Miles</td>\n",
       "      <td>Europe</td>\n",
       "      <td>42</td>\n",
       "      <td>No</td>\n",
       "    </tr>\n",
       "    <tr>\n",
       "      <th>1</th>\n",
       "      <td>24107</td>\n",
       "      <td>M</td>\n",
       "      <td>M</td>\n",
       "      <td>$30,000.00</td>\n",
       "      <td>3</td>\n",
       "      <td>Partial College</td>\n",
       "      <td>Clerical</td>\n",
       "      <td>Yes</td>\n",
       "      <td>1</td>\n",
       "      <td>0-1 Miles</td>\n",
       "      <td>Europe</td>\n",
       "      <td>43</td>\n",
       "      <td>No</td>\n",
       "    </tr>\n",
       "    <tr>\n",
       "      <th>2</th>\n",
       "      <td>14177</td>\n",
       "      <td>M</td>\n",
       "      <td>M</td>\n",
       "      <td>$80,000.00</td>\n",
       "      <td>5</td>\n",
       "      <td>Partial College</td>\n",
       "      <td>Professional</td>\n",
       "      <td>No</td>\n",
       "      <td>2</td>\n",
       "      <td>2-5 Miles</td>\n",
       "      <td>Europe</td>\n",
       "      <td>60</td>\n",
       "      <td>No</td>\n",
       "    </tr>\n",
       "    <tr>\n",
       "      <th>3</th>\n",
       "      <td>24381</td>\n",
       "      <td>S</td>\n",
       "      <td>M</td>\n",
       "      <td>$70,000.00</td>\n",
       "      <td>0</td>\n",
       "      <td>Bachelors</td>\n",
       "      <td>Professional</td>\n",
       "      <td>Yes</td>\n",
       "      <td>1</td>\n",
       "      <td>5-10 Miles</td>\n",
       "      <td>Pacific</td>\n",
       "      <td>41</td>\n",
       "      <td>Yes</td>\n",
       "    </tr>\n",
       "    <tr>\n",
       "      <th>4</th>\n",
       "      <td>25597</td>\n",
       "      <td>S</td>\n",
       "      <td>M</td>\n",
       "      <td>$30,000.00</td>\n",
       "      <td>0</td>\n",
       "      <td>Bachelors</td>\n",
       "      <td>Clerical</td>\n",
       "      <td>No</td>\n",
       "      <td>0</td>\n",
       "      <td>0-1 Miles</td>\n",
       "      <td>Europe</td>\n",
       "      <td>36</td>\n",
       "      <td>Yes</td>\n",
       "    </tr>\n",
       "  </tbody>\n",
       "</table>\n",
       "</div>"
      ],
      "text/plain": [
       "      ID Marital Status Gender      Income  Children        Education  \\\n",
       "0  12496              M      F  $40,000.00         1        Bachelors   \n",
       "1  24107              M      M  $30,000.00         3  Partial College   \n",
       "2  14177              M      M  $80,000.00         5  Partial College   \n",
       "3  24381              S      M  $70,000.00         0        Bachelors   \n",
       "4  25597              S      M  $30,000.00         0        Bachelors   \n",
       "\n",
       "       Occupation Home Owner  Cars Commute Distance   Region  Age  \\\n",
       "0  Skilled Manual        Yes     0        0-1 Miles   Europe   42   \n",
       "1        Clerical        Yes     1        0-1 Miles   Europe   43   \n",
       "2    Professional         No     2        2-5 Miles   Europe   60   \n",
       "3    Professional        Yes     1       5-10 Miles  Pacific   41   \n",
       "4        Clerical         No     0        0-1 Miles   Europe   36   \n",
       "\n",
       "  Purchased Bike  \n",
       "0             No  \n",
       "1             No  \n",
       "2             No  \n",
       "3            Yes  \n",
       "4            Yes  "
      ]
     },
     "execution_count": 48,
     "metadata": {},
     "output_type": "execute_result"
    }
   ],
   "source": [
    "df = pd.read_csv('FORPYTHON.csv')\n",
    "df.head(5)"
   ]
  },
  {
   "cell_type": "markdown",
   "id": "e9ad105a-98ae-4c2c-a757-a1cf608779b2",
   "metadata": {},
   "source": [
    "#### Cleaning"
   ]
  },
  {
   "cell_type": "markdown",
   "id": "f75377f3-07e5-4a4b-a970-15f746190379",
   "metadata": {},
   "source": [
    "#### Replacing m and s, becuase abbrivation is not recongnised in python"
   ]
  },
  {
   "cell_type": "code",
   "execution_count": 49,
   "id": "591fcee7-bd4c-4910-b315-6335199d0bd2",
   "metadata": {},
   "outputs": [
    {
     "data": {
      "text/html": [
       "<div>\n",
       "<style scoped>\n",
       "    .dataframe tbody tr th:only-of-type {\n",
       "        vertical-align: middle;\n",
       "    }\n",
       "\n",
       "    .dataframe tbody tr th {\n",
       "        vertical-align: top;\n",
       "    }\n",
       "\n",
       "    .dataframe thead th {\n",
       "        text-align: right;\n",
       "    }\n",
       "</style>\n",
       "<table border=\"1\" class=\"dataframe\">\n",
       "  <thead>\n",
       "    <tr style=\"text-align: right;\">\n",
       "      <th></th>\n",
       "      <th>ID</th>\n",
       "      <th>Marital Status</th>\n",
       "      <th>Gender</th>\n",
       "      <th>Income</th>\n",
       "      <th>Children</th>\n",
       "      <th>Education</th>\n",
       "      <th>Occupation</th>\n",
       "      <th>Home Owner</th>\n",
       "      <th>Cars</th>\n",
       "      <th>Commute Distance</th>\n",
       "      <th>Region</th>\n",
       "      <th>Age</th>\n",
       "      <th>Purchased Bike</th>\n",
       "    </tr>\n",
       "  </thead>\n",
       "  <tbody>\n",
       "    <tr>\n",
       "      <th>0</th>\n",
       "      <td>12496</td>\n",
       "      <td>Married</td>\n",
       "      <td>Female</td>\n",
       "      <td>$40,000.00</td>\n",
       "      <td>1</td>\n",
       "      <td>Bachelors</td>\n",
       "      <td>Skilled Manual</td>\n",
       "      <td>Yes</td>\n",
       "      <td>0</td>\n",
       "      <td>0-1 Miles</td>\n",
       "      <td>Europe</td>\n",
       "      <td>42</td>\n",
       "      <td>No</td>\n",
       "    </tr>\n",
       "    <tr>\n",
       "      <th>1</th>\n",
       "      <td>24107</td>\n",
       "      <td>Married</td>\n",
       "      <td>Male</td>\n",
       "      <td>$30,000.00</td>\n",
       "      <td>3</td>\n",
       "      <td>Partial College</td>\n",
       "      <td>Clerical</td>\n",
       "      <td>Yes</td>\n",
       "      <td>1</td>\n",
       "      <td>0-1 Miles</td>\n",
       "      <td>Europe</td>\n",
       "      <td>43</td>\n",
       "      <td>No</td>\n",
       "    </tr>\n",
       "    <tr>\n",
       "      <th>2</th>\n",
       "      <td>14177</td>\n",
       "      <td>Married</td>\n",
       "      <td>Male</td>\n",
       "      <td>$80,000.00</td>\n",
       "      <td>5</td>\n",
       "      <td>Partial College</td>\n",
       "      <td>Professional</td>\n",
       "      <td>No</td>\n",
       "      <td>2</td>\n",
       "      <td>2-5 Miles</td>\n",
       "      <td>Europe</td>\n",
       "      <td>60</td>\n",
       "      <td>No</td>\n",
       "    </tr>\n",
       "    <tr>\n",
       "      <th>3</th>\n",
       "      <td>24381</td>\n",
       "      <td>Single</td>\n",
       "      <td>Male</td>\n",
       "      <td>$70,000.00</td>\n",
       "      <td>0</td>\n",
       "      <td>Bachelors</td>\n",
       "      <td>Professional</td>\n",
       "      <td>Yes</td>\n",
       "      <td>1</td>\n",
       "      <td>5-10 Miles</td>\n",
       "      <td>Pacific</td>\n",
       "      <td>41</td>\n",
       "      <td>Yes</td>\n",
       "    </tr>\n",
       "    <tr>\n",
       "      <th>4</th>\n",
       "      <td>25597</td>\n",
       "      <td>Single</td>\n",
       "      <td>Male</td>\n",
       "      <td>$30,000.00</td>\n",
       "      <td>0</td>\n",
       "      <td>Bachelors</td>\n",
       "      <td>Clerical</td>\n",
       "      <td>No</td>\n",
       "      <td>0</td>\n",
       "      <td>0-1 Miles</td>\n",
       "      <td>Europe</td>\n",
       "      <td>36</td>\n",
       "      <td>Yes</td>\n",
       "    </tr>\n",
       "  </tbody>\n",
       "</table>\n",
       "</div>"
      ],
      "text/plain": [
       "      ID Marital Status  Gender      Income  Children        Education  \\\n",
       "0  12496        Married  Female  $40,000.00         1        Bachelors   \n",
       "1  24107        Married    Male  $30,000.00         3  Partial College   \n",
       "2  14177        Married    Male  $80,000.00         5  Partial College   \n",
       "3  24381         Single    Male  $70,000.00         0        Bachelors   \n",
       "4  25597         Single    Male  $30,000.00         0        Bachelors   \n",
       "\n",
       "       Occupation Home Owner  Cars Commute Distance   Region  Age  \\\n",
       "0  Skilled Manual        Yes     0        0-1 Miles   Europe   42   \n",
       "1        Clerical        Yes     1        0-1 Miles   Europe   43   \n",
       "2    Professional         No     2        2-5 Miles   Europe   60   \n",
       "3    Professional        Yes     1       5-10 Miles  Pacific   41   \n",
       "4        Clerical         No     0        0-1 Miles   Europe   36   \n",
       "\n",
       "  Purchased Bike  \n",
       "0             No  \n",
       "1             No  \n",
       "2             No  \n",
       "3            Yes  \n",
       "4            Yes  "
      ]
     },
     "execution_count": 49,
     "metadata": {},
     "output_type": "execute_result"
    }
   ],
   "source": [
    "df['Marital Status'] = df['Marital Status'].str.replace('M','Married').str.replace('S','Single')\n",
    "df['Gender'] = df['Gender'].str.replace('M','Male').str.replace('F','Female')\n",
    "df.head(5)"
   ]
  },
  {
   "cell_type": "markdown",
   "id": "aadcdbcf-dfda-49c3-a736-ddcb0569e57e",
   "metadata": {},
   "source": [
    "#### Removing $ and comma from column Income"
   ]
  },
  {
   "cell_type": "code",
   "execution_count": 50,
   "id": "1b35eaaf-4a7b-462f-8294-b36a06b8cac4",
   "metadata": {},
   "outputs": [
    {
     "data": {
      "text/html": [
       "<div>\n",
       "<style scoped>\n",
       "    .dataframe tbody tr th:only-of-type {\n",
       "        vertical-align: middle;\n",
       "    }\n",
       "\n",
       "    .dataframe tbody tr th {\n",
       "        vertical-align: top;\n",
       "    }\n",
       "\n",
       "    .dataframe thead th {\n",
       "        text-align: right;\n",
       "    }\n",
       "</style>\n",
       "<table border=\"1\" class=\"dataframe\">\n",
       "  <thead>\n",
       "    <tr style=\"text-align: right;\">\n",
       "      <th></th>\n",
       "      <th>ID</th>\n",
       "      <th>Marital Status</th>\n",
       "      <th>Gender</th>\n",
       "      <th>Income</th>\n",
       "      <th>Children</th>\n",
       "      <th>Education</th>\n",
       "      <th>Occupation</th>\n",
       "      <th>Home Owner</th>\n",
       "      <th>Cars</th>\n",
       "      <th>Commute Distance</th>\n",
       "      <th>Region</th>\n",
       "      <th>Age</th>\n",
       "      <th>Purchased Bike</th>\n",
       "    </tr>\n",
       "  </thead>\n",
       "  <tbody>\n",
       "    <tr>\n",
       "      <th>0</th>\n",
       "      <td>12496</td>\n",
       "      <td>Married</td>\n",
       "      <td>Female</td>\n",
       "      <td>40000.00</td>\n",
       "      <td>1</td>\n",
       "      <td>Bachelors</td>\n",
       "      <td>Skilled Manual</td>\n",
       "      <td>Yes</td>\n",
       "      <td>0</td>\n",
       "      <td>0-1 Miles</td>\n",
       "      <td>Europe</td>\n",
       "      <td>42</td>\n",
       "      <td>No</td>\n",
       "    </tr>\n",
       "    <tr>\n",
       "      <th>1</th>\n",
       "      <td>24107</td>\n",
       "      <td>Married</td>\n",
       "      <td>Male</td>\n",
       "      <td>30000.00</td>\n",
       "      <td>3</td>\n",
       "      <td>Partial College</td>\n",
       "      <td>Clerical</td>\n",
       "      <td>Yes</td>\n",
       "      <td>1</td>\n",
       "      <td>0-1 Miles</td>\n",
       "      <td>Europe</td>\n",
       "      <td>43</td>\n",
       "      <td>No</td>\n",
       "    </tr>\n",
       "    <tr>\n",
       "      <th>2</th>\n",
       "      <td>14177</td>\n",
       "      <td>Married</td>\n",
       "      <td>Male</td>\n",
       "      <td>80000.00</td>\n",
       "      <td>5</td>\n",
       "      <td>Partial College</td>\n",
       "      <td>Professional</td>\n",
       "      <td>No</td>\n",
       "      <td>2</td>\n",
       "      <td>2-5 Miles</td>\n",
       "      <td>Europe</td>\n",
       "      <td>60</td>\n",
       "      <td>No</td>\n",
       "    </tr>\n",
       "    <tr>\n",
       "      <th>3</th>\n",
       "      <td>24381</td>\n",
       "      <td>Single</td>\n",
       "      <td>Male</td>\n",
       "      <td>70000.00</td>\n",
       "      <td>0</td>\n",
       "      <td>Bachelors</td>\n",
       "      <td>Professional</td>\n",
       "      <td>Yes</td>\n",
       "      <td>1</td>\n",
       "      <td>5-10 Miles</td>\n",
       "      <td>Pacific</td>\n",
       "      <td>41</td>\n",
       "      <td>Yes</td>\n",
       "    </tr>\n",
       "    <tr>\n",
       "      <th>4</th>\n",
       "      <td>25597</td>\n",
       "      <td>Single</td>\n",
       "      <td>Male</td>\n",
       "      <td>30000.00</td>\n",
       "      <td>0</td>\n",
       "      <td>Bachelors</td>\n",
       "      <td>Clerical</td>\n",
       "      <td>No</td>\n",
       "      <td>0</td>\n",
       "      <td>0-1 Miles</td>\n",
       "      <td>Europe</td>\n",
       "      <td>36</td>\n",
       "      <td>Yes</td>\n",
       "    </tr>\n",
       "  </tbody>\n",
       "</table>\n",
       "</div>"
      ],
      "text/plain": [
       "      ID Marital Status  Gender    Income  Children        Education  \\\n",
       "0  12496        Married  Female  40000.00         1        Bachelors   \n",
       "1  24107        Married    Male  30000.00         3  Partial College   \n",
       "2  14177        Married    Male  80000.00         5  Partial College   \n",
       "3  24381         Single    Male  70000.00         0        Bachelors   \n",
       "4  25597         Single    Male  30000.00         0        Bachelors   \n",
       "\n",
       "       Occupation Home Owner  Cars Commute Distance   Region  Age  \\\n",
       "0  Skilled Manual        Yes     0        0-1 Miles   Europe   42   \n",
       "1        Clerical        Yes     1        0-1 Miles   Europe   43   \n",
       "2    Professional         No     2        2-5 Miles   Europe   60   \n",
       "3    Professional        Yes     1       5-10 Miles  Pacific   41   \n",
       "4        Clerical         No     0        0-1 Miles   Europe   36   \n",
       "\n",
       "  Purchased Bike  \n",
       "0             No  \n",
       "1             No  \n",
       "2             No  \n",
       "3            Yes  \n",
       "4            Yes  "
      ]
     },
     "execution_count": 50,
     "metadata": {},
     "output_type": "execute_result"
    }
   ],
   "source": [
    "df['Income'] = df['Income'].str.replace('$','').str.replace(',','')\n",
    "df.head()"
   ]
  },
  {
   "cell_type": "markdown",
   "id": "0c753757-68d3-4046-95fc-4ad0c0e642e2",
   "metadata": {},
   "source": [
    "#### Checking the data type"
   ]
  },
  {
   "cell_type": "code",
   "execution_count": 51,
   "id": "f78617c7-836a-4b46-9914-db1ef01c9f78",
   "metadata": {},
   "outputs": [
    {
     "data": {
      "text/plain": [
       "ID                   int64\n",
       "Marital Status      object\n",
       "Gender              object\n",
       "Income              object\n",
       "Children             int64\n",
       "Education           object\n",
       "Occupation          object\n",
       "Home Owner          object\n",
       "Cars                 int64\n",
       "Commute Distance    object\n",
       "Region              object\n",
       "Age                  int64\n",
       "Purchased Bike      object\n",
       "dtype: object"
      ]
     },
     "execution_count": 51,
     "metadata": {},
     "output_type": "execute_result"
    }
   ],
   "source": [
    "df.dtypes"
   ]
  },
  {
   "cell_type": "markdown",
   "id": "aa038131-2290-4548-a4c0-a99679ac8906",
   "metadata": {},
   "source": [
    "#### Changing income data type from object to the right data type"
   ]
  },
  {
   "cell_type": "code",
   "execution_count": 52,
   "id": "98fa54a0-cdb0-4092-977f-7f52febc9752",
   "metadata": {},
   "outputs": [],
   "source": [
    "df['Income']= pd.to_numeric(df['Income'])"
   ]
  },
  {
   "cell_type": "code",
   "execution_count": 53,
   "id": "8b083686-fdcb-4297-bafe-73176f0be72a",
   "metadata": {},
   "outputs": [
    {
     "data": {
      "text/plain": [
       "ID                    int64\n",
       "Marital Status       object\n",
       "Gender               object\n",
       "Income              float64\n",
       "Children              int64\n",
       "Education            object\n",
       "Occupation           object\n",
       "Home Owner           object\n",
       "Cars                  int64\n",
       "Commute Distance     object\n",
       "Region               object\n",
       "Age                   int64\n",
       "Purchased Bike       object\n",
       "dtype: object"
      ]
     },
     "execution_count": 53,
     "metadata": {},
     "output_type": "execute_result"
    }
   ],
   "source": [
    "df.dtypes"
   ]
  },
  {
   "cell_type": "markdown",
   "id": "201c39ea-72ed-42b8-b2ee-e3219d5a18e7",
   "metadata": {},
   "source": [
    "#### Checking for duplicate"
   ]
  },
  {
   "cell_type": "code",
   "execution_count": 54,
   "id": "d256233d-0c32-4e13-ae5e-e4b9a37065e6",
   "metadata": {},
   "outputs": [
    {
     "data": {
      "text/plain": [
       "26"
      ]
     },
     "execution_count": 54,
     "metadata": {},
     "output_type": "execute_result"
    }
   ],
   "source": [
    "df.duplicated().sum()"
   ]
  },
  {
   "cell_type": "markdown",
   "id": "17985195-0576-45d4-8389-1e155461219b",
   "metadata": {},
   "source": [
    "#### Deleting 26 records duplicate"
   ]
  },
  {
   "cell_type": "code",
   "execution_count": 55,
   "id": "0cdcbfe6-8ebe-49a4-bcc7-b13148a337e3",
   "metadata": {},
   "outputs": [],
   "source": [
    "df=df.drop_duplicates()"
   ]
  },
  {
   "cell_type": "code",
   "execution_count": 56,
   "id": "43a617fe-06f2-42b3-b21b-418ad0764178",
   "metadata": {},
   "outputs": [],
   "source": [
    "#df"
   ]
  },
  {
   "cell_type": "code",
   "execution_count": 57,
   "id": "8e7cddbc-a45f-4d6d-a8b3-3438231013a9",
   "metadata": {},
   "outputs": [
    {
     "data": {
      "text/plain": [
       "ID                  0\n",
       "Marital Status      0\n",
       "Gender              0\n",
       "Income              0\n",
       "Children            0\n",
       "Education           0\n",
       "Occupation          0\n",
       "Home Owner          0\n",
       "Cars                0\n",
       "Commute Distance    0\n",
       "Region              0\n",
       "Age                 0\n",
       "Purchased Bike      0\n",
       "dtype: int64"
      ]
     },
     "execution_count": 57,
     "metadata": {},
     "output_type": "execute_result"
    }
   ],
   "source": [
    "df.isna().sum()"
   ]
  },
  {
   "cell_type": "code",
   "execution_count": 58,
   "id": "8b59b77b-549c-4395-bd79-86f831d57987",
   "metadata": {},
   "outputs": [
    {
     "data": {
      "text/html": [
       "<div>\n",
       "<style scoped>\n",
       "    .dataframe tbody tr th:only-of-type {\n",
       "        vertical-align: middle;\n",
       "    }\n",
       "\n",
       "    .dataframe tbody tr th {\n",
       "        vertical-align: top;\n",
       "    }\n",
       "\n",
       "    .dataframe thead th {\n",
       "        text-align: right;\n",
       "    }\n",
       "</style>\n",
       "<table border=\"1\" class=\"dataframe\">\n",
       "  <thead>\n",
       "    <tr style=\"text-align: right;\">\n",
       "      <th></th>\n",
       "      <th>ID</th>\n",
       "      <th>Marital Status</th>\n",
       "      <th>Gender</th>\n",
       "      <th>Income</th>\n",
       "      <th>Children</th>\n",
       "      <th>Education</th>\n",
       "      <th>Occupation</th>\n",
       "      <th>Home Owner</th>\n",
       "      <th>Cars</th>\n",
       "      <th>Commute Distance</th>\n",
       "      <th>Region</th>\n",
       "      <th>Age</th>\n",
       "      <th>Purchased Bike</th>\n",
       "    </tr>\n",
       "  </thead>\n",
       "  <tbody>\n",
       "    <tr>\n",
       "      <th>0</th>\n",
       "      <td>12496</td>\n",
       "      <td>Married</td>\n",
       "      <td>Female</td>\n",
       "      <td>40000.0</td>\n",
       "      <td>1</td>\n",
       "      <td>Bachelors</td>\n",
       "      <td>Skilled Manual</td>\n",
       "      <td>Yes</td>\n",
       "      <td>0</td>\n",
       "      <td>0-1 Miles</td>\n",
       "      <td>Europe</td>\n",
       "      <td>42</td>\n",
       "      <td>No</td>\n",
       "    </tr>\n",
       "    <tr>\n",
       "      <th>1</th>\n",
       "      <td>24107</td>\n",
       "      <td>Married</td>\n",
       "      <td>Male</td>\n",
       "      <td>30000.0</td>\n",
       "      <td>3</td>\n",
       "      <td>Partial College</td>\n",
       "      <td>Clerical</td>\n",
       "      <td>Yes</td>\n",
       "      <td>1</td>\n",
       "      <td>0-1 Miles</td>\n",
       "      <td>Europe</td>\n",
       "      <td>43</td>\n",
       "      <td>No</td>\n",
       "    </tr>\n",
       "    <tr>\n",
       "      <th>2</th>\n",
       "      <td>14177</td>\n",
       "      <td>Married</td>\n",
       "      <td>Male</td>\n",
       "      <td>80000.0</td>\n",
       "      <td>5</td>\n",
       "      <td>Partial College</td>\n",
       "      <td>Professional</td>\n",
       "      <td>No</td>\n",
       "      <td>2</td>\n",
       "      <td>2-5 Miles</td>\n",
       "      <td>Europe</td>\n",
       "      <td>60</td>\n",
       "      <td>No</td>\n",
       "    </tr>\n",
       "    <tr>\n",
       "      <th>3</th>\n",
       "      <td>24381</td>\n",
       "      <td>Single</td>\n",
       "      <td>Male</td>\n",
       "      <td>70000.0</td>\n",
       "      <td>0</td>\n",
       "      <td>Bachelors</td>\n",
       "      <td>Professional</td>\n",
       "      <td>Yes</td>\n",
       "      <td>1</td>\n",
       "      <td>5-10 Miles</td>\n",
       "      <td>Pacific</td>\n",
       "      <td>41</td>\n",
       "      <td>Yes</td>\n",
       "    </tr>\n",
       "    <tr>\n",
       "      <th>4</th>\n",
       "      <td>25597</td>\n",
       "      <td>Single</td>\n",
       "      <td>Male</td>\n",
       "      <td>30000.0</td>\n",
       "      <td>0</td>\n",
       "      <td>Bachelors</td>\n",
       "      <td>Clerical</td>\n",
       "      <td>No</td>\n",
       "      <td>0</td>\n",
       "      <td>0-1 Miles</td>\n",
       "      <td>Europe</td>\n",
       "      <td>36</td>\n",
       "      <td>Yes</td>\n",
       "    </tr>\n",
       "  </tbody>\n",
       "</table>\n",
       "</div>"
      ],
      "text/plain": [
       "      ID Marital Status  Gender   Income  Children        Education  \\\n",
       "0  12496        Married  Female  40000.0         1        Bachelors   \n",
       "1  24107        Married    Male  30000.0         3  Partial College   \n",
       "2  14177        Married    Male  80000.0         5  Partial College   \n",
       "3  24381         Single    Male  70000.0         0        Bachelors   \n",
       "4  25597         Single    Male  30000.0         0        Bachelors   \n",
       "\n",
       "       Occupation Home Owner  Cars Commute Distance   Region  Age  \\\n",
       "0  Skilled Manual        Yes     0        0-1 Miles   Europe   42   \n",
       "1        Clerical        Yes     1        0-1 Miles   Europe   43   \n",
       "2    Professional         No     2        2-5 Miles   Europe   60   \n",
       "3    Professional        Yes     1       5-10 Miles  Pacific   41   \n",
       "4        Clerical         No     0        0-1 Miles   Europe   36   \n",
       "\n",
       "  Purchased Bike  \n",
       "0             No  \n",
       "1             No  \n",
       "2             No  \n",
       "3            Yes  \n",
       "4            Yes  "
      ]
     },
     "execution_count": 58,
     "metadata": {},
     "output_type": "execute_result"
    }
   ],
   "source": [
    "df.head(5)"
   ]
  },
  {
   "cell_type": "markdown",
   "id": "07785053-2816-46f3-920c-d2e9a016a251",
   "metadata": {},
   "source": [
    "### Filtering and analysis"
   ]
  },
  {
   "cell_type": "markdown",
   "id": "06e6138c-d596-43f4-9b0b-04d985dad960",
   "metadata": {},
   "source": [
    "#### Put out the number of poeple with car and their numbers"
   ]
  },
  {
   "cell_type": "code",
   "execution_count": 59,
   "id": "205b54e2-5733-4a58-bccf-a3a5738c6478",
   "metadata": {},
   "outputs": [
    {
     "data": {
      "text/plain": [
       "Cars\n",
       "2    342\n",
       "1    267\n",
       "0    247\n",
       "3     85\n",
       "4     59\n",
       "Name: count, dtype: int64"
      ]
     },
     "execution_count": 59,
     "metadata": {},
     "output_type": "execute_result"
    }
   ],
   "source": [
    "df['Cars'].value_counts()"
   ]
  },
  {
   "cell_type": "markdown",
   "id": "e13c2c20-f891-44db-9bb2-7b12eefafc80",
   "metadata": {},
   "source": [
    "#### Pulling out the region distribution"
   ]
  },
  {
   "cell_type": "code",
   "execution_count": 60,
   "id": "f6ebf649-64bc-4442-8cde-569c1b4336ab",
   "metadata": {},
   "outputs": [
    {
     "data": {
      "text/plain": [
       "Region\n",
       "North America    508\n",
       "Europe           300\n",
       "Pacific          192\n",
       "Name: count, dtype: int64"
      ]
     },
     "execution_count": 60,
     "metadata": {},
     "output_type": "execute_result"
    }
   ],
   "source": [
    "df['Region'].value_counts()"
   ]
  },
  {
   "cell_type": "code",
   "execution_count": 61,
   "id": "3f221b87-e5b4-475c-96d1-f20ea8851461",
   "metadata": {},
   "outputs": [
    {
     "data": {
      "text/html": [
       "<div>\n",
       "<style scoped>\n",
       "    .dataframe tbody tr th:only-of-type {\n",
       "        vertical-align: middle;\n",
       "    }\n",
       "\n",
       "    .dataframe tbody tr th {\n",
       "        vertical-align: top;\n",
       "    }\n",
       "\n",
       "    .dataframe thead th {\n",
       "        text-align: right;\n",
       "    }\n",
       "</style>\n",
       "<table border=\"1\" class=\"dataframe\">\n",
       "  <thead>\n",
       "    <tr style=\"text-align: right;\">\n",
       "      <th></th>\n",
       "      <th>ID</th>\n",
       "      <th>Marital Status</th>\n",
       "      <th>Gender</th>\n",
       "      <th>Income</th>\n",
       "      <th>Children</th>\n",
       "      <th>Education</th>\n",
       "      <th>Occupation</th>\n",
       "      <th>Home Owner</th>\n",
       "      <th>Cars</th>\n",
       "      <th>Commute Distance</th>\n",
       "      <th>Region</th>\n",
       "      <th>Age</th>\n",
       "      <th>Purchased Bike</th>\n",
       "    </tr>\n",
       "  </thead>\n",
       "  <tbody>\n",
       "    <tr>\n",
       "      <th>995</th>\n",
       "      <td>23731</td>\n",
       "      <td>Married</td>\n",
       "      <td>Male</td>\n",
       "      <td>60000.0</td>\n",
       "      <td>2</td>\n",
       "      <td>High School</td>\n",
       "      <td>Professional</td>\n",
       "      <td>Yes</td>\n",
       "      <td>2</td>\n",
       "      <td>2-5 Miles</td>\n",
       "      <td>North America</td>\n",
       "      <td>54</td>\n",
       "      <td>Yes</td>\n",
       "    </tr>\n",
       "    <tr>\n",
       "      <th>996</th>\n",
       "      <td>28672</td>\n",
       "      <td>Single</td>\n",
       "      <td>Male</td>\n",
       "      <td>70000.0</td>\n",
       "      <td>4</td>\n",
       "      <td>Graduate Degree</td>\n",
       "      <td>Professional</td>\n",
       "      <td>Yes</td>\n",
       "      <td>0</td>\n",
       "      <td>2-5 Miles</td>\n",
       "      <td>North America</td>\n",
       "      <td>35</td>\n",
       "      <td>Yes</td>\n",
       "    </tr>\n",
       "    <tr>\n",
       "      <th>997</th>\n",
       "      <td>11809</td>\n",
       "      <td>Married</td>\n",
       "      <td>Male</td>\n",
       "      <td>60000.0</td>\n",
       "      <td>2</td>\n",
       "      <td>Bachelors</td>\n",
       "      <td>Skilled Manual</td>\n",
       "      <td>Yes</td>\n",
       "      <td>0</td>\n",
       "      <td>0-1 Miles</td>\n",
       "      <td>North America</td>\n",
       "      <td>38</td>\n",
       "      <td>Yes</td>\n",
       "    </tr>\n",
       "    <tr>\n",
       "      <th>998</th>\n",
       "      <td>19664</td>\n",
       "      <td>Single</td>\n",
       "      <td>Male</td>\n",
       "      <td>100000.0</td>\n",
       "      <td>3</td>\n",
       "      <td>Bachelors</td>\n",
       "      <td>Management</td>\n",
       "      <td>No</td>\n",
       "      <td>3</td>\n",
       "      <td>1-2 Miles</td>\n",
       "      <td>North America</td>\n",
       "      <td>38</td>\n",
       "      <td>No</td>\n",
       "    </tr>\n",
       "    <tr>\n",
       "      <th>999</th>\n",
       "      <td>12121</td>\n",
       "      <td>Single</td>\n",
       "      <td>Male</td>\n",
       "      <td>60000.0</td>\n",
       "      <td>3</td>\n",
       "      <td>High School</td>\n",
       "      <td>Professional</td>\n",
       "      <td>Yes</td>\n",
       "      <td>2</td>\n",
       "      <td>10+ Miles</td>\n",
       "      <td>North America</td>\n",
       "      <td>53</td>\n",
       "      <td>Yes</td>\n",
       "    </tr>\n",
       "  </tbody>\n",
       "</table>\n",
       "</div>"
      ],
      "text/plain": [
       "        ID Marital Status Gender    Income  Children        Education  \\\n",
       "995  23731        Married   Male   60000.0         2      High School   \n",
       "996  28672         Single   Male   70000.0         4  Graduate Degree   \n",
       "997  11809        Married   Male   60000.0         2        Bachelors   \n",
       "998  19664         Single   Male  100000.0         3        Bachelors   \n",
       "999  12121         Single   Male   60000.0         3      High School   \n",
       "\n",
       "         Occupation Home Owner  Cars Commute Distance         Region  Age  \\\n",
       "995    Professional        Yes     2        2-5 Miles  North America   54   \n",
       "996    Professional        Yes     0        2-5 Miles  North America   35   \n",
       "997  Skilled Manual        Yes     0        0-1 Miles  North America   38   \n",
       "998      Management         No     3        1-2 Miles  North America   38   \n",
       "999    Professional        Yes     2        10+ Miles  North America   53   \n",
       "\n",
       "    Purchased Bike  \n",
       "995            Yes  \n",
       "996            Yes  \n",
       "997            Yes  \n",
       "998             No  \n",
       "999            Yes  "
      ]
     },
     "execution_count": 61,
     "metadata": {},
     "output_type": "execute_result"
    }
   ],
   "source": [
    "df.tail(5)"
   ]
  },
  {
   "cell_type": "markdown",
   "id": "68218e14-08f1-458b-b64e-bb3308c00e31",
   "metadata": {},
   "source": [
    "#### Distribution of singles who are customers that purchcase bikes, their counts"
   ]
  },
  {
   "cell_type": "code",
   "execution_count": 62,
   "id": "d4ef99e6-d96e-460b-812a-ad5c0635978c",
   "metadata": {},
   "outputs": [
    {
     "data": {
      "text/plain": [
       "Purchased Bike\n",
       "Yes    250\n",
       "No     212\n",
       "Name: count, dtype: int64"
      ]
     },
     "execution_count": 62,
     "metadata": {},
     "output_type": "execute_result"
    }
   ],
   "source": [
    "grupa = df.groupby(['Marital Status'])\n",
    "glo = grupa['Purchased Bike'].value_counts().loc['Single']\n",
    "glo"
   ]
  },
  {
   "cell_type": "markdown",
   "id": "17a0c1b1-f6c7-41a9-b6d9-959188cfa834",
   "metadata": {},
   "source": [
    "#### Distribution of married who are customer that puhcase bikes, their counts"
   ]
  },
  {
   "cell_type": "code",
   "execution_count": 63,
   "id": "930a22df-bedf-4f92-831f-e161b1ec5cfb",
   "metadata": {},
   "outputs": [
    {
     "data": {
      "text/plain": [
       "Purchased Bike\n",
       "No     307\n",
       "Yes    231\n",
       "Name: count, dtype: int64"
      ]
     },
     "execution_count": 63,
     "metadata": {},
     "output_type": "execute_result"
    }
   ],
   "source": [
    "grupa = df.groupby(['Marital Status'])\n",
    "grow = grupa['Purchased Bike'].value_counts().loc['Married']\n",
    "grow"
   ]
  },
  {
   "cell_type": "markdown",
   "id": "f86ddc4d-a8cd-44dc-9378-9b9f57d6ec19",
   "metadata": {},
   "source": [
    "#### Convert grow to dataframe"
   ]
  },
  {
   "cell_type": "code",
   "execution_count": 64,
   "id": "fe6ae66c-c596-46fb-ae9f-585f9b434969",
   "metadata": {},
   "outputs": [
    {
     "data": {
      "text/html": [
       "<div>\n",
       "<style scoped>\n",
       "    .dataframe tbody tr th:only-of-type {\n",
       "        vertical-align: middle;\n",
       "    }\n",
       "\n",
       "    .dataframe tbody tr th {\n",
       "        vertical-align: top;\n",
       "    }\n",
       "\n",
       "    .dataframe thead th {\n",
       "        text-align: right;\n",
       "    }\n",
       "</style>\n",
       "<table border=\"1\" class=\"dataframe\">\n",
       "  <thead>\n",
       "    <tr style=\"text-align: right;\">\n",
       "      <th></th>\n",
       "      <th>count</th>\n",
       "    </tr>\n",
       "    <tr>\n",
       "      <th>Purchased Bike</th>\n",
       "      <th></th>\n",
       "    </tr>\n",
       "  </thead>\n",
       "  <tbody>\n",
       "    <tr>\n",
       "      <th>No</th>\n",
       "      <td>307</td>\n",
       "    </tr>\n",
       "    <tr>\n",
       "      <th>Yes</th>\n",
       "      <td>231</td>\n",
       "    </tr>\n",
       "  </tbody>\n",
       "</table>\n",
       "</div>"
      ],
      "text/plain": [
       "                count\n",
       "Purchased Bike       \n",
       "No                307\n",
       "Yes               231"
      ]
     },
     "execution_count": 64,
     "metadata": {},
     "output_type": "execute_result"
    }
   ],
   "source": [
    "df_grow = grow.to_frame()\n",
    "df_grow"
   ]
  },
  {
   "cell_type": "markdown",
   "id": "f0d89ba8-7246-4f15-a3be-dd2520e4f848",
   "metadata": {},
   "source": [
    "#### Changing the count to Married"
   ]
  },
  {
   "cell_type": "code",
   "execution_count": 65,
   "id": "11000a4a-2db9-4a21-afa8-2550c490e1a1",
   "metadata": {},
   "outputs": [
    {
     "data": {
      "text/html": [
       "<div>\n",
       "<style scoped>\n",
       "    .dataframe tbody tr th:only-of-type {\n",
       "        vertical-align: middle;\n",
       "    }\n",
       "\n",
       "    .dataframe tbody tr th {\n",
       "        vertical-align: top;\n",
       "    }\n",
       "\n",
       "    .dataframe thead th {\n",
       "        text-align: right;\n",
       "    }\n",
       "</style>\n",
       "<table border=\"1\" class=\"dataframe\">\n",
       "  <thead>\n",
       "    <tr style=\"text-align: right;\">\n",
       "      <th></th>\n",
       "      <th>No_of_Married</th>\n",
       "    </tr>\n",
       "    <tr>\n",
       "      <th>Purchased Bike</th>\n",
       "      <th></th>\n",
       "    </tr>\n",
       "  </thead>\n",
       "  <tbody>\n",
       "    <tr>\n",
       "      <th>No</th>\n",
       "      <td>307</td>\n",
       "    </tr>\n",
       "    <tr>\n",
       "      <th>Yes</th>\n",
       "      <td>231</td>\n",
       "    </tr>\n",
       "  </tbody>\n",
       "</table>\n",
       "</div>"
      ],
      "text/plain": [
       "                No_of_Married\n",
       "Purchased Bike               \n",
       "No                        307\n",
       "Yes                       231"
      ]
     },
     "execution_count": 65,
     "metadata": {},
     "output_type": "execute_result"
    }
   ],
   "source": [
    "df_grow = df_grow.rename(columns={'count':'No_of_Married'})\n",
    "df_grow"
   ]
  },
  {
   "cell_type": "markdown",
   "id": "44c86c4f-e02b-4cf3-b9af-426e8c34e5ab",
   "metadata": {},
   "source": [
    "#### Convert glo to dataframe object"
   ]
  },
  {
   "cell_type": "code",
   "execution_count": 66,
   "id": "c4da85f7-acdd-4817-a258-8a822f17a2c2",
   "metadata": {},
   "outputs": [
    {
     "data": {
      "text/html": [
       "<div>\n",
       "<style scoped>\n",
       "    .dataframe tbody tr th:only-of-type {\n",
       "        vertical-align: middle;\n",
       "    }\n",
       "\n",
       "    .dataframe tbody tr th {\n",
       "        vertical-align: top;\n",
       "    }\n",
       "\n",
       "    .dataframe thead th {\n",
       "        text-align: right;\n",
       "    }\n",
       "</style>\n",
       "<table border=\"1\" class=\"dataframe\">\n",
       "  <thead>\n",
       "    <tr style=\"text-align: right;\">\n",
       "      <th></th>\n",
       "      <th>count</th>\n",
       "    </tr>\n",
       "    <tr>\n",
       "      <th>Purchased Bike</th>\n",
       "      <th></th>\n",
       "    </tr>\n",
       "  </thead>\n",
       "  <tbody>\n",
       "    <tr>\n",
       "      <th>Yes</th>\n",
       "      <td>250</td>\n",
       "    </tr>\n",
       "    <tr>\n",
       "      <th>No</th>\n",
       "      <td>212</td>\n",
       "    </tr>\n",
       "  </tbody>\n",
       "</table>\n",
       "</div>"
      ],
      "text/plain": [
       "                count\n",
       "Purchased Bike       \n",
       "Yes               250\n",
       "No                212"
      ]
     },
     "execution_count": 66,
     "metadata": {},
     "output_type": "execute_result"
    }
   ],
   "source": [
    "df_glo = glo.to_frame()\n",
    "df_glo"
   ]
  },
  {
   "cell_type": "markdown",
   "id": "72c7c51a-7148-4f17-991f-eabb9bab62fa",
   "metadata": {},
   "source": [
    "#### Changing the count to singles"
   ]
  },
  {
   "cell_type": "code",
   "execution_count": 67,
   "id": "74c0129a-4915-44f3-b00c-f2bf8671dd61",
   "metadata": {},
   "outputs": [
    {
     "data": {
      "text/html": [
       "<div>\n",
       "<style scoped>\n",
       "    .dataframe tbody tr th:only-of-type {\n",
       "        vertical-align: middle;\n",
       "    }\n",
       "\n",
       "    .dataframe tbody tr th {\n",
       "        vertical-align: top;\n",
       "    }\n",
       "\n",
       "    .dataframe thead th {\n",
       "        text-align: right;\n",
       "    }\n",
       "</style>\n",
       "<table border=\"1\" class=\"dataframe\">\n",
       "  <thead>\n",
       "    <tr style=\"text-align: right;\">\n",
       "      <th></th>\n",
       "      <th>No_of_Singles</th>\n",
       "    </tr>\n",
       "    <tr>\n",
       "      <th>Purchased Bike</th>\n",
       "      <th></th>\n",
       "    </tr>\n",
       "  </thead>\n",
       "  <tbody>\n",
       "    <tr>\n",
       "      <th>Yes</th>\n",
       "      <td>250</td>\n",
       "    </tr>\n",
       "    <tr>\n",
       "      <th>No</th>\n",
       "      <td>212</td>\n",
       "    </tr>\n",
       "  </tbody>\n",
       "</table>\n",
       "</div>"
      ],
      "text/plain": [
       "                No_of_Singles\n",
       "Purchased Bike               \n",
       "Yes                       250\n",
       "No                        212"
      ]
     },
     "execution_count": 67,
     "metadata": {},
     "output_type": "execute_result"
    }
   ],
   "source": [
    "df_glo = df_glo.rename(columns={'count':'No_of_Singles'})\n",
    "df_glo"
   ]
  },
  {
   "cell_type": "markdown",
   "id": "ad3c1322-5cda-47dc-ba75-184e35c954d8",
   "metadata": {},
   "source": [
    "#### Merging the two dataframe with the common column"
   ]
  },
  {
   "cell_type": "code",
   "execution_count": 68,
   "id": "23256814-2d95-4aef-8f59-6ba2c1a60a27",
   "metadata": {},
   "outputs": [
    {
     "data": {
      "text/html": [
       "<div>\n",
       "<style scoped>\n",
       "    .dataframe tbody tr th:only-of-type {\n",
       "        vertical-align: middle;\n",
       "    }\n",
       "\n",
       "    .dataframe tbody tr th {\n",
       "        vertical-align: top;\n",
       "    }\n",
       "\n",
       "    .dataframe thead th {\n",
       "        text-align: right;\n",
       "    }\n",
       "</style>\n",
       "<table border=\"1\" class=\"dataframe\">\n",
       "  <thead>\n",
       "    <tr style=\"text-align: right;\">\n",
       "      <th></th>\n",
       "      <th>No_of_Singles</th>\n",
       "      <th>No_of_Married</th>\n",
       "    </tr>\n",
       "    <tr>\n",
       "      <th>Purchased Bike</th>\n",
       "      <th></th>\n",
       "      <th></th>\n",
       "    </tr>\n",
       "  </thead>\n",
       "  <tbody>\n",
       "    <tr>\n",
       "      <th>Yes</th>\n",
       "      <td>250</td>\n",
       "      <td>231</td>\n",
       "    </tr>\n",
       "    <tr>\n",
       "      <th>No</th>\n",
       "      <td>212</td>\n",
       "      <td>307</td>\n",
       "    </tr>\n",
       "  </tbody>\n",
       "</table>\n",
       "</div>"
      ],
      "text/plain": [
       "                No_of_Singles  No_of_Married\n",
       "Purchased Bike                              \n",
       "Yes                       250            231\n",
       "No                        212            307"
      ]
     },
     "execution_count": 68,
     "metadata": {},
     "output_type": "execute_result"
    }
   ],
   "source": [
    "df1 = pd.merge(df_glo,df_grow,on='Purchased Bike')\n",
    "df1"
   ]
  },
  {
   "cell_type": "markdown",
   "id": "b262cbf4-98dd-405e-8c80-403df61a7c80",
   "metadata": {},
   "source": [
    "#### Rearranging the headings"
   ]
  },
  {
   "cell_type": "code",
   "execution_count": 69,
   "id": "a31c477a-11b8-47a4-bd33-b3094111793e",
   "metadata": {},
   "outputs": [
    {
     "data": {
      "text/html": [
       "<div>\n",
       "<style scoped>\n",
       "    .dataframe tbody tr th:only-of-type {\n",
       "        vertical-align: middle;\n",
       "    }\n",
       "\n",
       "    .dataframe tbody tr th {\n",
       "        vertical-align: top;\n",
       "    }\n",
       "\n",
       "    .dataframe thead th {\n",
       "        text-align: right;\n",
       "    }\n",
       "</style>\n",
       "<table border=\"1\" class=\"dataframe\">\n",
       "  <thead>\n",
       "    <tr style=\"text-align: right;\">\n",
       "      <th></th>\n",
       "      <th>Purchased Bike</th>\n",
       "      <th>No_of_Singles</th>\n",
       "      <th>No_of_Married</th>\n",
       "    </tr>\n",
       "  </thead>\n",
       "  <tbody>\n",
       "    <tr>\n",
       "      <th>0</th>\n",
       "      <td>Yes</td>\n",
       "      <td>250</td>\n",
       "      <td>231</td>\n",
       "    </tr>\n",
       "    <tr>\n",
       "      <th>1</th>\n",
       "      <td>No</td>\n",
       "      <td>212</td>\n",
       "      <td>307</td>\n",
       "    </tr>\n",
       "  </tbody>\n",
       "</table>\n",
       "</div>"
      ],
      "text/plain": [
       "  Purchased Bike  No_of_Singles  No_of_Married\n",
       "0            Yes            250            231\n",
       "1             No            212            307"
      ]
     },
     "execution_count": 69,
     "metadata": {},
     "output_type": "execute_result"
    }
   ],
   "source": [
    "df1 = df1.reset_index()\n",
    "df1"
   ]
  },
  {
   "cell_type": "markdown",
   "id": "043536b8-db1a-4651-92ff-222fba13b92c",
   "metadata": {},
   "source": [
    "#### DataFrame showing Purchased Bikes by Single Customer"
   ]
  },
  {
   "cell_type": "code",
   "execution_count": 70,
   "id": "7a7bec78-821d-4969-8253-393e3b1f14b2",
   "metadata": {},
   "outputs": [
    {
     "data": {
      "text/html": [
       "<div>\n",
       "<style scoped>\n",
       "    .dataframe tbody tr th:only-of-type {\n",
       "        vertical-align: middle;\n",
       "    }\n",
       "\n",
       "    .dataframe tbody tr th {\n",
       "        vertical-align: top;\n",
       "    }\n",
       "\n",
       "    .dataframe thead th {\n",
       "        text-align: right;\n",
       "    }\n",
       "</style>\n",
       "<table border=\"1\" class=\"dataframe\">\n",
       "  <thead>\n",
       "    <tr style=\"text-align: right;\">\n",
       "      <th></th>\n",
       "      <th>ID</th>\n",
       "      <th>Marital Status</th>\n",
       "      <th>Gender</th>\n",
       "      <th>Income</th>\n",
       "      <th>Children</th>\n",
       "      <th>Education</th>\n",
       "      <th>Occupation</th>\n",
       "      <th>Home Owner</th>\n",
       "      <th>Cars</th>\n",
       "      <th>Commute Distance</th>\n",
       "      <th>Region</th>\n",
       "      <th>Age</th>\n",
       "      <th>Purchased Bike</th>\n",
       "    </tr>\n",
       "  </thead>\n",
       "  <tbody>\n",
       "    <tr>\n",
       "      <th>3</th>\n",
       "      <td>24381</td>\n",
       "      <td>Single</td>\n",
       "      <td>Male</td>\n",
       "      <td>70000.0</td>\n",
       "      <td>0</td>\n",
       "      <td>Bachelors</td>\n",
       "      <td>Professional</td>\n",
       "      <td>Yes</td>\n",
       "      <td>1</td>\n",
       "      <td>5-10 Miles</td>\n",
       "      <td>Pacific</td>\n",
       "      <td>41</td>\n",
       "      <td>Yes</td>\n",
       "    </tr>\n",
       "    <tr>\n",
       "      <th>4</th>\n",
       "      <td>25597</td>\n",
       "      <td>Single</td>\n",
       "      <td>Male</td>\n",
       "      <td>30000.0</td>\n",
       "      <td>0</td>\n",
       "      <td>Bachelors</td>\n",
       "      <td>Clerical</td>\n",
       "      <td>No</td>\n",
       "      <td>0</td>\n",
       "      <td>0-1 Miles</td>\n",
       "      <td>Europe</td>\n",
       "      <td>36</td>\n",
       "      <td>Yes</td>\n",
       "    </tr>\n",
       "    <tr>\n",
       "      <th>6</th>\n",
       "      <td>27974</td>\n",
       "      <td>Single</td>\n",
       "      <td>Male</td>\n",
       "      <td>160000.0</td>\n",
       "      <td>2</td>\n",
       "      <td>High School</td>\n",
       "      <td>Management</td>\n",
       "      <td>Yes</td>\n",
       "      <td>4</td>\n",
       "      <td>0-1 Miles</td>\n",
       "      <td>Pacific</td>\n",
       "      <td>33</td>\n",
       "      <td>Yes</td>\n",
       "    </tr>\n",
       "    <tr>\n",
       "      <th>14</th>\n",
       "      <td>23542</td>\n",
       "      <td>Single</td>\n",
       "      <td>Male</td>\n",
       "      <td>60000.0</td>\n",
       "      <td>1</td>\n",
       "      <td>Partial College</td>\n",
       "      <td>Skilled Manual</td>\n",
       "      <td>No</td>\n",
       "      <td>1</td>\n",
       "      <td>0-1 Miles</td>\n",
       "      <td>Pacific</td>\n",
       "      <td>45</td>\n",
       "      <td>Yes</td>\n",
       "    </tr>\n",
       "    <tr>\n",
       "      <th>15</th>\n",
       "      <td>20870</td>\n",
       "      <td>Single</td>\n",
       "      <td>Female</td>\n",
       "      <td>10000.0</td>\n",
       "      <td>2</td>\n",
       "      <td>High School</td>\n",
       "      <td>Manual</td>\n",
       "      <td>Yes</td>\n",
       "      <td>1</td>\n",
       "      <td>0-1 Miles</td>\n",
       "      <td>Europe</td>\n",
       "      <td>38</td>\n",
       "      <td>Yes</td>\n",
       "    </tr>\n",
       "  </tbody>\n",
       "</table>\n",
       "</div>"
      ],
      "text/plain": [
       "       ID Marital Status  Gender    Income  Children        Education  \\\n",
       "3   24381         Single    Male   70000.0         0        Bachelors   \n",
       "4   25597         Single    Male   30000.0         0        Bachelors   \n",
       "6   27974         Single    Male  160000.0         2      High School   \n",
       "14  23542         Single    Male   60000.0         1  Partial College   \n",
       "15  20870         Single  Female   10000.0         2      High School   \n",
       "\n",
       "        Occupation Home Owner  Cars Commute Distance   Region  Age  \\\n",
       "3     Professional        Yes     1       5-10 Miles  Pacific   41   \n",
       "4         Clerical         No     0        0-1 Miles   Europe   36   \n",
       "6       Management        Yes     4        0-1 Miles  Pacific   33   \n",
       "14  Skilled Manual         No     1        0-1 Miles  Pacific   45   \n",
       "15          Manual        Yes     1        0-1 Miles   Europe   38   \n",
       "\n",
       "   Purchased Bike  \n",
       "3             Yes  \n",
       "4             Yes  \n",
       "6             Yes  \n",
       "14            Yes  \n",
       "15            Yes  "
      ]
     },
     "execution_count": 70,
     "metadata": {},
     "output_type": "execute_result"
    }
   ],
   "source": [
    "filt = df['Purchased Bike'].str.contains('Yes') & df['Marital Status'].str.contains('Single')\n",
    "df.loc[filt].head()"
   ]
  },
  {
   "cell_type": "markdown",
   "id": "d2f15f15-ffaf-4e33-87ed-b5a7d3ea3682",
   "metadata": {},
   "source": [
    "#### Distribution of region and no of purchased bike"
   ]
  },
  {
   "cell_type": "code",
   "execution_count": 71,
   "id": "f54ca89c-bcef-47c6-8e5f-7ab1a7b515c8",
   "metadata": {},
   "outputs": [
    {
     "data": {
      "text/plain": [
       "Region         Purchased Bike\n",
       "Europe         No                152\n",
       "               Yes               148\n",
       "North America  No                288\n",
       "               Yes               220\n",
       "Pacific        Yes               113\n",
       "               No                 79\n",
       "Name: count, dtype: int64"
      ]
     },
     "execution_count": 71,
     "metadata": {},
     "output_type": "execute_result"
    }
   ],
   "source": [
    "grupo = df.groupby(['Region'])\n",
    "gor = grupo['Purchased Bike'].value_counts()\n",
    "gor"
   ]
  },
  {
   "cell_type": "markdown",
   "id": "436eb066-66f2-45ea-9073-3a6ec87a2f32",
   "metadata": {},
   "source": [
    "#### People that owned homes and their region, Yes to own home"
   ]
  },
  {
   "cell_type": "code",
   "execution_count": 72,
   "id": "2e987f48-f303-4108-95d4-1f8b30d8aa5c",
   "metadata": {},
   "outputs": [
    {
     "data": {
      "text/plain": [
       "Region\n",
       "North America    368\n",
       "Europe           194\n",
       "Pacific          121\n",
       "Name: count, dtype: int64"
      ]
     },
     "execution_count": 72,
     "metadata": {},
     "output_type": "execute_result"
    }
   ],
   "source": [
    "done = df.groupby(['Home Owner'])\n",
    "xyz = done['Region'].value_counts().loc['Yes']\n",
    "xyz"
   ]
  },
  {
   "cell_type": "markdown",
   "id": "c981e7c0-e2e7-49f4-bd98-70d81c11d4de",
   "metadata": {},
   "source": [
    "#### People that owned homes and their region, no to own home"
   ]
  },
  {
   "cell_type": "code",
   "execution_count": 73,
   "id": "6f3013e4-5472-431e-8118-eb9b8fa51312",
   "metadata": {},
   "outputs": [
    {
     "data": {
      "text/plain": [
       "Region\n",
       "North America    140\n",
       "Europe           106\n",
       "Pacific           71\n",
       "Name: count, dtype: int64"
      ]
     },
     "execution_count": 73,
     "metadata": {},
     "output_type": "execute_result"
    }
   ],
   "source": [
    "done = df.groupby(['Home Owner'])\n",
    "xy = done['Region'].value_counts().loc['No']\n",
    "xy"
   ]
  },
  {
   "cell_type": "markdown",
   "id": "df275dff-58cf-44c6-85b6-ca682d5d110d",
   "metadata": {},
   "source": [
    "#### Convert xyz to dataframe"
   ]
  },
  {
   "cell_type": "code",
   "execution_count": 74,
   "id": "611d47d2-7172-4f6c-8db1-031a0fe0857c",
   "metadata": {},
   "outputs": [
    {
     "data": {
      "text/html": [
       "<div>\n",
       "<style scoped>\n",
       "    .dataframe tbody tr th:only-of-type {\n",
       "        vertical-align: middle;\n",
       "    }\n",
       "\n",
       "    .dataframe tbody tr th {\n",
       "        vertical-align: top;\n",
       "    }\n",
       "\n",
       "    .dataframe thead th {\n",
       "        text-align: right;\n",
       "    }\n",
       "</style>\n",
       "<table border=\"1\" class=\"dataframe\">\n",
       "  <thead>\n",
       "    <tr style=\"text-align: right;\">\n",
       "      <th></th>\n",
       "      <th>count</th>\n",
       "    </tr>\n",
       "    <tr>\n",
       "      <th>Region</th>\n",
       "      <th></th>\n",
       "    </tr>\n",
       "  </thead>\n",
       "  <tbody>\n",
       "    <tr>\n",
       "      <th>North America</th>\n",
       "      <td>368</td>\n",
       "    </tr>\n",
       "    <tr>\n",
       "      <th>Europe</th>\n",
       "      <td>194</td>\n",
       "    </tr>\n",
       "    <tr>\n",
       "      <th>Pacific</th>\n",
       "      <td>121</td>\n",
       "    </tr>\n",
       "  </tbody>\n",
       "</table>\n",
       "</div>"
      ],
      "text/plain": [
       "               count\n",
       "Region              \n",
       "North America    368\n",
       "Europe           194\n",
       "Pacific          121"
      ]
     },
     "execution_count": 74,
     "metadata": {},
     "output_type": "execute_result"
    }
   ],
   "source": [
    "df_xyz= xyz.to_frame()\n",
    "df_xyz"
   ]
  },
  {
   "cell_type": "markdown",
   "id": "f80c7cd2-e036-46c3-a5a6-eb3bcf7001e2",
   "metadata": {},
   "source": [
    "#### Convert xy to dataframe"
   ]
  },
  {
   "cell_type": "code",
   "execution_count": 75,
   "id": "a88592d3-da8c-492b-a0d2-fe8db8004d9a",
   "metadata": {},
   "outputs": [
    {
     "data": {
      "text/html": [
       "<div>\n",
       "<style scoped>\n",
       "    .dataframe tbody tr th:only-of-type {\n",
       "        vertical-align: middle;\n",
       "    }\n",
       "\n",
       "    .dataframe tbody tr th {\n",
       "        vertical-align: top;\n",
       "    }\n",
       "\n",
       "    .dataframe thead th {\n",
       "        text-align: right;\n",
       "    }\n",
       "</style>\n",
       "<table border=\"1\" class=\"dataframe\">\n",
       "  <thead>\n",
       "    <tr style=\"text-align: right;\">\n",
       "      <th></th>\n",
       "      <th>count</th>\n",
       "    </tr>\n",
       "    <tr>\n",
       "      <th>Region</th>\n",
       "      <th></th>\n",
       "    </tr>\n",
       "  </thead>\n",
       "  <tbody>\n",
       "    <tr>\n",
       "      <th>North America</th>\n",
       "      <td>140</td>\n",
       "    </tr>\n",
       "    <tr>\n",
       "      <th>Europe</th>\n",
       "      <td>106</td>\n",
       "    </tr>\n",
       "    <tr>\n",
       "      <th>Pacific</th>\n",
       "      <td>71</td>\n",
       "    </tr>\n",
       "  </tbody>\n",
       "</table>\n",
       "</div>"
      ],
      "text/plain": [
       "               count\n",
       "Region              \n",
       "North America    140\n",
       "Europe           106\n",
       "Pacific           71"
      ]
     },
     "execution_count": 75,
     "metadata": {},
     "output_type": "execute_result"
    }
   ],
   "source": [
    "df_xy= xy.to_frame()\n",
    "df_xy"
   ]
  },
  {
   "cell_type": "markdown",
   "id": "94de74cc-8ab9-44fb-acd1-ce9436a9bba4",
   "metadata": {},
   "source": [
    "#### Rename the count to Have homes"
   ]
  },
  {
   "cell_type": "code",
   "execution_count": 76,
   "id": "824266ba-9b78-4032-ad35-ee204e00c7ac",
   "metadata": {},
   "outputs": [
    {
     "data": {
      "text/html": [
       "<div>\n",
       "<style scoped>\n",
       "    .dataframe tbody tr th:only-of-type {\n",
       "        vertical-align: middle;\n",
       "    }\n",
       "\n",
       "    .dataframe tbody tr th {\n",
       "        vertical-align: top;\n",
       "    }\n",
       "\n",
       "    .dataframe thead th {\n",
       "        text-align: right;\n",
       "    }\n",
       "</style>\n",
       "<table border=\"1\" class=\"dataframe\">\n",
       "  <thead>\n",
       "    <tr style=\"text-align: right;\">\n",
       "      <th></th>\n",
       "      <th>Have Homes</th>\n",
       "    </tr>\n",
       "    <tr>\n",
       "      <th>Region</th>\n",
       "      <th></th>\n",
       "    </tr>\n",
       "  </thead>\n",
       "  <tbody>\n",
       "    <tr>\n",
       "      <th>North America</th>\n",
       "      <td>368</td>\n",
       "    </tr>\n",
       "    <tr>\n",
       "      <th>Europe</th>\n",
       "      <td>194</td>\n",
       "    </tr>\n",
       "    <tr>\n",
       "      <th>Pacific</th>\n",
       "      <td>121</td>\n",
       "    </tr>\n",
       "  </tbody>\n",
       "</table>\n",
       "</div>"
      ],
      "text/plain": [
       "               Have Homes\n",
       "Region                   \n",
       "North America         368\n",
       "Europe                194\n",
       "Pacific               121"
      ]
     },
     "execution_count": 76,
     "metadata": {},
     "output_type": "execute_result"
    }
   ],
   "source": [
    "df_xyz = df_xyz.rename(columns={'count':'Have Homes'})\n",
    "df_xyz"
   ]
  },
  {
   "cell_type": "markdown",
   "id": "e8c55164-b432-4873-9747-53f61562f427",
   "metadata": {},
   "source": [
    "#### Rename the count to no homes"
   ]
  },
  {
   "cell_type": "code",
   "execution_count": 77,
   "id": "219efed5-4924-4e95-bf72-e3d54043b7c0",
   "metadata": {},
   "outputs": [
    {
     "data": {
      "text/html": [
       "<div>\n",
       "<style scoped>\n",
       "    .dataframe tbody tr th:only-of-type {\n",
       "        vertical-align: middle;\n",
       "    }\n",
       "\n",
       "    .dataframe tbody tr th {\n",
       "        vertical-align: top;\n",
       "    }\n",
       "\n",
       "    .dataframe thead th {\n",
       "        text-align: right;\n",
       "    }\n",
       "</style>\n",
       "<table border=\"1\" class=\"dataframe\">\n",
       "  <thead>\n",
       "    <tr style=\"text-align: right;\">\n",
       "      <th></th>\n",
       "      <th>No Homes</th>\n",
       "    </tr>\n",
       "    <tr>\n",
       "      <th>Region</th>\n",
       "      <th></th>\n",
       "    </tr>\n",
       "  </thead>\n",
       "  <tbody>\n",
       "    <tr>\n",
       "      <th>North America</th>\n",
       "      <td>140</td>\n",
       "    </tr>\n",
       "    <tr>\n",
       "      <th>Europe</th>\n",
       "      <td>106</td>\n",
       "    </tr>\n",
       "    <tr>\n",
       "      <th>Pacific</th>\n",
       "      <td>71</td>\n",
       "    </tr>\n",
       "  </tbody>\n",
       "</table>\n",
       "</div>"
      ],
      "text/plain": [
       "               No Homes\n",
       "Region                 \n",
       "North America       140\n",
       "Europe              106\n",
       "Pacific              71"
      ]
     },
     "execution_count": 77,
     "metadata": {},
     "output_type": "execute_result"
    }
   ],
   "source": [
    "df_xy = df_xy.rename(columns={'count':'No Homes'})\n",
    "df_xy"
   ]
  },
  {
   "cell_type": "markdown",
   "id": "99111723-3ad7-4851-8837-d78083993c9d",
   "metadata": {},
   "source": [
    "#### Merging the two dataframe with common column region"
   ]
  },
  {
   "cell_type": "code",
   "execution_count": 78,
   "id": "390155de-f00e-46fa-86cf-ebdab4b8b6f1",
   "metadata": {},
   "outputs": [
    {
     "data": {
      "text/html": [
       "<div>\n",
       "<style scoped>\n",
       "    .dataframe tbody tr th:only-of-type {\n",
       "        vertical-align: middle;\n",
       "    }\n",
       "\n",
       "    .dataframe tbody tr th {\n",
       "        vertical-align: top;\n",
       "    }\n",
       "\n",
       "    .dataframe thead th {\n",
       "        text-align: right;\n",
       "    }\n",
       "</style>\n",
       "<table border=\"1\" class=\"dataframe\">\n",
       "  <thead>\n",
       "    <tr style=\"text-align: right;\">\n",
       "      <th></th>\n",
       "      <th>Have Homes</th>\n",
       "      <th>No Homes</th>\n",
       "    </tr>\n",
       "    <tr>\n",
       "      <th>Region</th>\n",
       "      <th></th>\n",
       "      <th></th>\n",
       "    </tr>\n",
       "  </thead>\n",
       "  <tbody>\n",
       "    <tr>\n",
       "      <th>North America</th>\n",
       "      <td>368</td>\n",
       "      <td>140</td>\n",
       "    </tr>\n",
       "    <tr>\n",
       "      <th>Europe</th>\n",
       "      <td>194</td>\n",
       "      <td>106</td>\n",
       "    </tr>\n",
       "    <tr>\n",
       "      <th>Pacific</th>\n",
       "      <td>121</td>\n",
       "      <td>71</td>\n",
       "    </tr>\n",
       "  </tbody>\n",
       "</table>\n",
       "</div>"
      ],
      "text/plain": [
       "               Have Homes  No Homes\n",
       "Region                             \n",
       "North America         368       140\n",
       "Europe                194       106\n",
       "Pacific               121        71"
      ]
     },
     "execution_count": 78,
     "metadata": {},
     "output_type": "execute_result"
    }
   ],
   "source": [
    "df2 = pd.merge(df_xyz,df_xy,on='Region')\n",
    "df2"
   ]
  },
  {
   "cell_type": "markdown",
   "id": "e715cd1a-36f8-4ece-89de-a9bf955bb3d5",
   "metadata": {},
   "source": [
    "#### Rearranging the headings"
   ]
  },
  {
   "cell_type": "code",
   "execution_count": 79,
   "id": "6a78568b-4f39-48b7-80be-a25244100b4c",
   "metadata": {},
   "outputs": [
    {
     "data": {
      "text/html": [
       "<div>\n",
       "<style scoped>\n",
       "    .dataframe tbody tr th:only-of-type {\n",
       "        vertical-align: middle;\n",
       "    }\n",
       "\n",
       "    .dataframe tbody tr th {\n",
       "        vertical-align: top;\n",
       "    }\n",
       "\n",
       "    .dataframe thead th {\n",
       "        text-align: right;\n",
       "    }\n",
       "</style>\n",
       "<table border=\"1\" class=\"dataframe\">\n",
       "  <thead>\n",
       "    <tr style=\"text-align: right;\">\n",
       "      <th></th>\n",
       "      <th>Region</th>\n",
       "      <th>Have Homes</th>\n",
       "      <th>No Homes</th>\n",
       "    </tr>\n",
       "  </thead>\n",
       "  <tbody>\n",
       "    <tr>\n",
       "      <th>0</th>\n",
       "      <td>North America</td>\n",
       "      <td>368</td>\n",
       "      <td>140</td>\n",
       "    </tr>\n",
       "    <tr>\n",
       "      <th>1</th>\n",
       "      <td>Europe</td>\n",
       "      <td>194</td>\n",
       "      <td>106</td>\n",
       "    </tr>\n",
       "    <tr>\n",
       "      <th>2</th>\n",
       "      <td>Pacific</td>\n",
       "      <td>121</td>\n",
       "      <td>71</td>\n",
       "    </tr>\n",
       "  </tbody>\n",
       "</table>\n",
       "</div>"
      ],
      "text/plain": [
       "          Region  Have Homes  No Homes\n",
       "0  North America         368       140\n",
       "1         Europe         194       106\n",
       "2        Pacific         121        71"
      ]
     },
     "execution_count": 79,
     "metadata": {},
     "output_type": "execute_result"
    }
   ],
   "source": [
    "df2 = df2.reset_index()\n",
    "df2"
   ]
  },
  {
   "cell_type": "markdown",
   "id": "3641b2bf-a8ff-42df-80a5-d778c5b30bde",
   "metadata": {},
   "source": [
    "#### look at the region and marital status columns for single"
   ]
  },
  {
   "cell_type": "code",
   "execution_count": 80,
   "id": "c647e066-842b-46de-ac47-a39be3aacc8d",
   "metadata": {},
   "outputs": [
    {
     "data": {
      "text/plain": [
       "Region\n",
       "North America    211\n",
       "Europe           154\n",
       "Pacific           97\n",
       "Name: count, dtype: int64"
      ]
     },
     "execution_count": 80,
     "metadata": {},
     "output_type": "execute_result"
    }
   ],
   "source": [
    "\n",
    "mara = df.groupby(['Marital Status'])\n",
    "sad = mara['Region'].value_counts().loc['Single']\n",
    "sad"
   ]
  },
  {
   "cell_type": "markdown",
   "id": "3392f26b-193a-4b56-89c8-947c5525c7a9",
   "metadata": {},
   "source": [
    "#### look at the region and marital status columns for married"
   ]
  },
  {
   "cell_type": "code",
   "execution_count": 81,
   "id": "89f59faf-a304-41be-9f85-113513d9710e",
   "metadata": {},
   "outputs": [
    {
     "data": {
      "text/plain": [
       "Region\n",
       "North America    297\n",
       "Europe           146\n",
       "Pacific           95\n",
       "Name: count, dtype: int64"
      ]
     },
     "execution_count": 81,
     "metadata": {},
     "output_type": "execute_result"
    }
   ],
   "source": [
    "mar = df.groupby(['Marital Status'])\n",
    "sa = mar['Region'].value_counts().loc['Married']\n",
    "sa"
   ]
  },
  {
   "cell_type": "markdown",
   "id": "8c2bacef-c00a-4fdf-9c4b-94657a64b55f",
   "metadata": {},
   "source": [
    "#### Plotting a graph of Region against Have Home Owners. Note I choose colors in this code"
   ]
  },
  {
   "cell_type": "code",
   "execution_count": 82,
   "id": "d39c780c-9f6a-45e7-a79c-fe89ed80cf4a",
   "metadata": {},
   "outputs": [
    {
     "data": {
      "image/png": "[encoded data removed]",
      "text/plain": [
       "<Figure size 600x300 with 1 Axes>"
      ]
     },
     "metadata": {},
     "output_type": "display_data"
    }
   ],
   "source": [
    "plt.figure(figsize = (6,3))\n",
    "colors = ['red','yellow','gray']\n",
    "plt.pie(df2['Have Homes'], labels = df2['Region'].values, colors=colors,autopct = '%0.1f%%')\n",
    "plt.title('Distribution of a Regions by (Have Homes)')\n",
    "plt.show()"
   ]
  },
  {
   "cell_type": "markdown",
   "id": "391dd9df-3ead-46d6-acbe-29504ca83891",
   "metadata": {},
   "source": [
    "#### Plotting a graph of Region against No Home Owners"
   ]
  },
  {
   "cell_type": "code",
   "execution_count": 83,
   "id": "981c8be3-9749-43ec-b626-6cc8b069b9eb",
   "metadata": {},
   "outputs": [
    {
     "data": {
      "image/png": "[encoded data removed]",
      "text/plain": [
       "<Figure size 600x400 with 1 Axes>"
      ]
     },
     "metadata": {},
     "output_type": "display_data"
    }
   ],
   "source": [
    "plt.figure(figsize = (6,4))\n",
    "plt.pie(df2['No Homes'], labels = df2['Region'].values, autopct = '%0.1f%%')\n",
    "plt.title('Distribution of a Regions by (No Homes)')\n",
    "plt.show()"
   ]
  },
  {
   "cell_type": "markdown",
   "id": "97d0890f-206a-4387-89aa-404b11528980",
   "metadata": {},
   "source": [
    "### Analysis on effect of distance covered"
   ]
  },
  {
   "cell_type": "markdown",
   "id": "d5936d18-eaa3-4a35-8ecb-1fabf6fa5898",
   "metadata": {},
   "source": [
    "#### looking at the way distance covered affected the number of bikes purchased"
   ]
  },
  {
   "cell_type": "code",
   "execution_count": 84,
   "id": "a5f00882-4fac-40c4-8d61-1f048d0f3ea3",
   "metadata": {},
   "outputs": [
    {
     "data": {
      "text/plain": [
       "Commute Distance\n",
       "0-1 Miles     200\n",
       "2-5 Miles      95\n",
       "1-2 Miles      77\n",
       "5-10 Miles     76\n",
       "10+ Miles      33\n",
       "Name: count, dtype: int64"
      ]
     },
     "execution_count": 84,
     "metadata": {},
     "output_type": "execute_result"
    }
   ],
   "source": [
    "rat = df.groupby(['Purchased Bike'])\n",
    "egg = rat['Commute Distance'].value_counts().loc['Yes']\n",
    "egg"
   ]
  },
  {
   "cell_type": "markdown",
   "id": "795829c1-219d-4779-9cde-a191525e4075",
   "metadata": {},
   "source": [
    "#### Convert egg to dataframe"
   ]
  },
  {
   "cell_type": "code",
   "execution_count": 85,
   "id": "78cd659f-411b-4245-967c-2c0188460017",
   "metadata": {},
   "outputs": [
    {
     "data": {
      "text/html": [
       "<div>\n",
       "<style scoped>\n",
       "    .dataframe tbody tr th:only-of-type {\n",
       "        vertical-align: middle;\n",
       "    }\n",
       "\n",
       "    .dataframe tbody tr th {\n",
       "        vertical-align: top;\n",
       "    }\n",
       "\n",
       "    .dataframe thead th {\n",
       "        text-align: right;\n",
       "    }\n",
       "</style>\n",
       "<table border=\"1\" class=\"dataframe\">\n",
       "  <thead>\n",
       "    <tr style=\"text-align: right;\">\n",
       "      <th></th>\n",
       "      <th>count</th>\n",
       "    </tr>\n",
       "    <tr>\n",
       "      <th>Commute Distance</th>\n",
       "      <th></th>\n",
       "    </tr>\n",
       "  </thead>\n",
       "  <tbody>\n",
       "    <tr>\n",
       "      <th>0-1 Miles</th>\n",
       "      <td>200</td>\n",
       "    </tr>\n",
       "    <tr>\n",
       "      <th>2-5 Miles</th>\n",
       "      <td>95</td>\n",
       "    </tr>\n",
       "    <tr>\n",
       "      <th>1-2 Miles</th>\n",
       "      <td>77</td>\n",
       "    </tr>\n",
       "    <tr>\n",
       "      <th>5-10 Miles</th>\n",
       "      <td>76</td>\n",
       "    </tr>\n",
       "    <tr>\n",
       "      <th>10+ Miles</th>\n",
       "      <td>33</td>\n",
       "    </tr>\n",
       "  </tbody>\n",
       "</table>\n",
       "</div>"
      ],
      "text/plain": [
       "                  count\n",
       "Commute Distance       \n",
       "0-1 Miles           200\n",
       "2-5 Miles            95\n",
       "1-2 Miles            77\n",
       "5-10 Miles           76\n",
       "10+ Miles            33"
      ]
     },
     "execution_count": 85,
     "metadata": {},
     "output_type": "execute_result"
    }
   ],
   "source": [
    "df_egg= egg.to_frame()\n",
    "df_egg"
   ]
  },
  {
   "cell_type": "code",
   "execution_count": 86,
   "id": "e7f8bec5-1d8a-4a17-9fc9-8c49850fc6c1",
   "metadata": {},
   "outputs": [
    {
     "data": {
      "text/html": [
       "<div>\n",
       "<style scoped>\n",
       "    .dataframe tbody tr th:only-of-type {\n",
       "        vertical-align: middle;\n",
       "    }\n",
       "\n",
       "    .dataframe tbody tr th {\n",
       "        vertical-align: top;\n",
       "    }\n",
       "\n",
       "    .dataframe thead th {\n",
       "        text-align: right;\n",
       "    }\n",
       "</style>\n",
       "<table border=\"1\" class=\"dataframe\">\n",
       "  <thead>\n",
       "    <tr style=\"text-align: right;\">\n",
       "      <th></th>\n",
       "      <th>Commute Distance</th>\n",
       "      <th>count</th>\n",
       "    </tr>\n",
       "  </thead>\n",
       "  <tbody>\n",
       "    <tr>\n",
       "      <th>0</th>\n",
       "      <td>0-1 Miles</td>\n",
       "      <td>200</td>\n",
       "    </tr>\n",
       "    <tr>\n",
       "      <th>1</th>\n",
       "      <td>2-5 Miles</td>\n",
       "      <td>95</td>\n",
       "    </tr>\n",
       "    <tr>\n",
       "      <th>2</th>\n",
       "      <td>1-2 Miles</td>\n",
       "      <td>77</td>\n",
       "    </tr>\n",
       "    <tr>\n",
       "      <th>3</th>\n",
       "      <td>5-10 Miles</td>\n",
       "      <td>76</td>\n",
       "    </tr>\n",
       "    <tr>\n",
       "      <th>4</th>\n",
       "      <td>10+ Miles</td>\n",
       "      <td>33</td>\n",
       "    </tr>\n",
       "  </tbody>\n",
       "</table>\n",
       "</div>"
      ],
      "text/plain": [
       "  Commute Distance  count\n",
       "0        0-1 Miles    200\n",
       "1        2-5 Miles     95\n",
       "2        1-2 Miles     77\n",
       "3       5-10 Miles     76\n",
       "4        10+ Miles     33"
      ]
     },
     "execution_count": 86,
     "metadata": {},
     "output_type": "execute_result"
    }
   ],
   "source": [
    "df_egg = df_egg.reset_index()\n",
    "df_egg"
   ]
  },
  {
   "cell_type": "markdown",
   "id": "4c8ee018-18f3-40aa-bd86-a10a0342053b",
   "metadata": {},
   "source": [
    "#### Rename the count to Yes"
   ]
  },
  {
   "cell_type": "code",
   "execution_count": 87,
   "id": "ca68092e-8497-46b7-89f3-bd7caf8360c9",
   "metadata": {},
   "outputs": [
    {
     "data": {
      "text/html": [
       "<div>\n",
       "<style scoped>\n",
       "    .dataframe tbody tr th:only-of-type {\n",
       "        vertical-align: middle;\n",
       "    }\n",
       "\n",
       "    .dataframe tbody tr th {\n",
       "        vertical-align: top;\n",
       "    }\n",
       "\n",
       "    .dataframe thead th {\n",
       "        text-align: right;\n",
       "    }\n",
       "</style>\n",
       "<table border=\"1\" class=\"dataframe\">\n",
       "  <thead>\n",
       "    <tr style=\"text-align: right;\">\n",
       "      <th></th>\n",
       "      <th>Commute Distance</th>\n",
       "      <th>Yes</th>\n",
       "    </tr>\n",
       "  </thead>\n",
       "  <tbody>\n",
       "    <tr>\n",
       "      <th>0</th>\n",
       "      <td>0-1 Miles</td>\n",
       "      <td>200</td>\n",
       "    </tr>\n",
       "    <tr>\n",
       "      <th>1</th>\n",
       "      <td>2-5 Miles</td>\n",
       "      <td>95</td>\n",
       "    </tr>\n",
       "    <tr>\n",
       "      <th>2</th>\n",
       "      <td>1-2 Miles</td>\n",
       "      <td>77</td>\n",
       "    </tr>\n",
       "    <tr>\n",
       "      <th>3</th>\n",
       "      <td>5-10 Miles</td>\n",
       "      <td>76</td>\n",
       "    </tr>\n",
       "    <tr>\n",
       "      <th>4</th>\n",
       "      <td>10+ Miles</td>\n",
       "      <td>33</td>\n",
       "    </tr>\n",
       "  </tbody>\n",
       "</table>\n",
       "</div>"
      ],
      "text/plain": [
       "  Commute Distance  Yes\n",
       "0        0-1 Miles  200\n",
       "1        2-5 Miles   95\n",
       "2        1-2 Miles   77\n",
       "3       5-10 Miles   76\n",
       "4        10+ Miles   33"
      ]
     },
     "execution_count": 87,
     "metadata": {},
     "output_type": "execute_result"
    }
   ],
   "source": [
    "df_egg = df_egg.rename(columns={'count':'Yes'})\n",
    "df_egg"
   ]
  },
  {
   "cell_type": "markdown",
   "id": "a44f7edc-87b6-48b7-a17f-c804521c03f2",
   "metadata": {},
   "source": [
    "#### Plotting a graph of commute distance against yes"
   ]
  },
  {
   "cell_type": "code",
   "execution_count": 88,
   "id": "9071b152-addd-4e16-b2b9-cb69b4fab8a8",
   "metadata": {},
   "outputs": [
    {
     "data": {
      "image/png": "[encoded data removed]",
      "text/plain": [
       "<Figure size 600x400 with 1 Axes>"
      ]
     },
     "metadata": {},
     "output_type": "display_data"
    }
   ],
   "source": [
    "plt.figure(figsize = (6,4))\n",
    "plt.bar(x=df_egg['Commute Distance'], height = df_egg['Yes'], color='gray')\n",
    "plt.ylabel('People with Bike', fontsize=12)\n",
    "plt.xlabel('Distance Covered',fontsize=12)\n",
    "#plt.bar_label(df_egg['Purchased Bike']\n",
    "plt.title('Distribution of Distance Covered against Bikes purchased', fontsize=14, fontweight='bold')\n",
    "plt.show()"
   ]
  },
  {
   "cell_type": "code",
   "execution_count": null,
   "id": "c6e69b4e-eb7d-4fdb-ac06-a3be03b6e8d0",
   "metadata": {},
   "outputs": [],
   "source": []
  }
 ],
 "metadata": {
  "kernelspec": {
   "display_name": "Python 3 (ipykernel)",
   "language": "python",
   "name": "python3"
  },
  "language_info": {
   "codemirror_mode": {
    "name": "ipython",
    "version": 3
   },
   "file_extension": ".py",
   "mimetype": "text/x-python",
   "name": "python",
   "nbconvert_exporter": "python",
   "pygments_lexer": "ipython3",
   "version": "3.12.4"
  }
 },
 "nbformat": 4,
 "nbformat_minor": 5
}
