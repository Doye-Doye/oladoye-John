{
 "cells": [
  {
   "cell_type": "code",
   "execution_count": 26,
   "id": "dc3789bf-dc26-42f6-b5dd-18ae14ea49d5",
   "metadata": {},
   "outputs": [],
   "source": [
    "import pandas as pd\n",
    "import numpy as np"
   ]
  },
  {
   "cell_type": "code",
   "execution_count": 3,
   "id": "85c9198f-f5d3-4e0f-a0b9-3c905e2e18a8",
   "metadata": {},
   "outputs": [],
   "source": [
    "credit = pd.read_csv(r\"C:\\Users\\USER\\Desktop\\credit_csv\\credit_card_transactions_2023.csv\")"
   ]
  },
  {
   "cell_type": "code",
   "execution_count": 4,
   "id": "ee0549d9-cc08-488a-95f8-38f2065af1a0",
   "metadata": {},
   "outputs": [
    {
     "data": {
      "text/html": [
       "<div>\n",
       "<style scoped>\n",
       "    .dataframe tbody tr th:only-of-type {\n",
       "        vertical-align: middle;\n",
       "    }\n",
       "\n",
       "    .dataframe tbody tr th {\n",
       "        vertical-align: top;\n",
       "    }\n",
       "\n",
       "    .dataframe thead th {\n",
       "        text-align: right;\n",
       "    }\n",
       "</style>\n",
       "<table border=\"1\" class=\"dataframe\">\n",
       "  <thead>\n",
       "    <tr style=\"text-align: right;\">\n",
       "      <th></th>\n",
       "      <th>CustomerID</th>\n",
       "      <th>TransactionID</th>\n",
       "      <th>TransactionDate</th>\n",
       "      <th>Amount</th>\n",
       "      <th>MerchantName</th>\n",
       "      <th>Category</th>\n",
       "      <th>PaymentMethod</th>\n",
       "      <th>CustomerAge</th>\n",
       "      <th>CustomerGender</th>\n",
       "      <th>CustomerLocation</th>\n",
       "      <th>CustomerIncome</th>\n",
       "    </tr>\n",
       "  </thead>\n",
       "  <tbody>\n",
       "    <tr>\n",
       "      <th>0</th>\n",
       "      <td>1</td>\n",
       "      <td>1</td>\n",
       "      <td>2023-01-01 00:00:00</td>\n",
       "      <td>1875.83</td>\n",
       "      <td>Apple</td>\n",
       "      <td>Electronics</td>\n",
       "      <td>Google Pay</td>\n",
       "      <td>42</td>\n",
       "      <td>Other</td>\n",
       "      <td>San Jose</td>\n",
       "      <td>128058.94</td>\n",
       "    </tr>\n",
       "    <tr>\n",
       "      <th>1</th>\n",
       "      <td>2</td>\n",
       "      <td>2</td>\n",
       "      <td>2023-01-01 00:01:00</td>\n",
       "      <td>4753.82</td>\n",
       "      <td>Costco</td>\n",
       "      <td>Other</td>\n",
       "      <td>Credit Card</td>\n",
       "      <td>67</td>\n",
       "      <td>Other</td>\n",
       "      <td>San Antonio</td>\n",
       "      <td>130317.66</td>\n",
       "    </tr>\n",
       "    <tr>\n",
       "      <th>2</th>\n",
       "      <td>3</td>\n",
       "      <td>3</td>\n",
       "      <td>2023-01-01 00:02:00</td>\n",
       "      <td>3661.31</td>\n",
       "      <td>Walmart</td>\n",
       "      <td>Dining</td>\n",
       "      <td>Bank Transfer</td>\n",
       "      <td>39</td>\n",
       "      <td>Female</td>\n",
       "      <td>San Diego</td>\n",
       "      <td>37583.73</td>\n",
       "    </tr>\n",
       "    <tr>\n",
       "      <th>3</th>\n",
       "      <td>4</td>\n",
       "      <td>4</td>\n",
       "      <td>2023-01-01 00:03:00</td>\n",
       "      <td>2995.30</td>\n",
       "      <td>eBay</td>\n",
       "      <td>Utilities</td>\n",
       "      <td>Google Pay</td>\n",
       "      <td>56</td>\n",
       "      <td>Male</td>\n",
       "      <td>Phoenix</td>\n",
       "      <td>66107.10</td>\n",
       "    </tr>\n",
       "  </tbody>\n",
       "</table>\n",
       "</div>"
      ],
      "text/plain": [
       "   CustomerID  TransactionID      TransactionDate   Amount MerchantName  \\\n",
       "0           1              1  2023-01-01 00:00:00  1875.83        Apple   \n",
       "1           2              2  2023-01-01 00:01:00  4753.82       Costco   \n",
       "2           3              3  2023-01-01 00:02:00  3661.31      Walmart   \n",
       "3           4              4  2023-01-01 00:03:00  2995.30         eBay   \n",
       "\n",
       "      Category  PaymentMethod  CustomerAge CustomerGender CustomerLocation  \\\n",
       "0  Electronics     Google Pay           42          Other         San Jose   \n",
       "1        Other    Credit Card           67          Other      San Antonio   \n",
       "2       Dining  Bank Transfer           39         Female        San Diego   \n",
       "3    Utilities     Google Pay           56           Male          Phoenix   \n",
       "\n",
       "   CustomerIncome  \n",
       "0       128058.94  \n",
       "1       130317.66  \n",
       "2        37583.73  \n",
       "3        66107.10  "
      ]
     },
     "execution_count": 4,
     "metadata": {},
     "output_type": "execute_result"
    }
   ],
   "source": [
    "credit.head(4)"
   ]
  },
  {
   "cell_type": "code",
   "execution_count": 5,
   "id": "03e6ef21-708b-43be-b586-8fba6444f95e",
   "metadata": {},
   "outputs": [],
   "source": [
    "credit = credit.rename(columns={\"TransactionDate\":\"Date\",\n",
    "                              \"CustomerAge\":\"Age\",\n",
    "                              \"CustomerGender\":\"Gender\",\n",
    "                              \"CustomerLocation\":\"Location\",\n",
    "                              \"CustomerIncome\":\"Income\"})\n"
   ]
  },
  {
   "cell_type": "code",
   "execution_count": 6,
   "id": "543a5935-a501-4d34-b7b1-31977fd6418a",
   "metadata": {},
   "outputs": [
    {
     "data": {
      "text/html": [
       "<div>\n",
       "<style scoped>\n",
       "    .dataframe tbody tr th:only-of-type {\n",
       "        vertical-align: middle;\n",
       "    }\n",
       "\n",
       "    .dataframe tbody tr th {\n",
       "        vertical-align: top;\n",
       "    }\n",
       "\n",
       "    .dataframe thead th {\n",
       "        text-align: right;\n",
       "    }\n",
       "</style>\n",
       "<table border=\"1\" class=\"dataframe\">\n",
       "  <thead>\n",
       "    <tr style=\"text-align: right;\">\n",
       "      <th></th>\n",
       "      <th>CustomerID</th>\n",
       "      <th>TransactionID</th>\n",
       "      <th>Date</th>\n",
       "      <th>Amount</th>\n",
       "      <th>MerchantName</th>\n",
       "      <th>Category</th>\n",
       "      <th>PaymentMethod</th>\n",
       "      <th>Age</th>\n",
       "      <th>Gender</th>\n",
       "      <th>Location</th>\n",
       "      <th>Income</th>\n",
       "    </tr>\n",
       "  </thead>\n",
       "  <tbody>\n",
       "    <tr>\n",
       "      <th>0</th>\n",
       "      <td>1</td>\n",
       "      <td>1</td>\n",
       "      <td>2023-01-01 00:00:00</td>\n",
       "      <td>1875.83</td>\n",
       "      <td>Apple</td>\n",
       "      <td>Electronics</td>\n",
       "      <td>Google Pay</td>\n",
       "      <td>42</td>\n",
       "      <td>Other</td>\n",
       "      <td>San Jose</td>\n",
       "      <td>128058.94</td>\n",
       "    </tr>\n",
       "    <tr>\n",
       "      <th>1</th>\n",
       "      <td>2</td>\n",
       "      <td>2</td>\n",
       "      <td>2023-01-01 00:01:00</td>\n",
       "      <td>4753.82</td>\n",
       "      <td>Costco</td>\n",
       "      <td>Other</td>\n",
       "      <td>Credit Card</td>\n",
       "      <td>67</td>\n",
       "      <td>Other</td>\n",
       "      <td>San Antonio</td>\n",
       "      <td>130317.66</td>\n",
       "    </tr>\n",
       "    <tr>\n",
       "      <th>2</th>\n",
       "      <td>3</td>\n",
       "      <td>3</td>\n",
       "      <td>2023-01-01 00:02:00</td>\n",
       "      <td>3661.31</td>\n",
       "      <td>Walmart</td>\n",
       "      <td>Dining</td>\n",
       "      <td>Bank Transfer</td>\n",
       "      <td>39</td>\n",
       "      <td>Female</td>\n",
       "      <td>San Diego</td>\n",
       "      <td>37583.73</td>\n",
       "    </tr>\n",
       "    <tr>\n",
       "      <th>3</th>\n",
       "      <td>4</td>\n",
       "      <td>4</td>\n",
       "      <td>2023-01-01 00:03:00</td>\n",
       "      <td>2995.30</td>\n",
       "      <td>eBay</td>\n",
       "      <td>Utilities</td>\n",
       "      <td>Google Pay</td>\n",
       "      <td>56</td>\n",
       "      <td>Male</td>\n",
       "      <td>Phoenix</td>\n",
       "      <td>66107.10</td>\n",
       "    </tr>\n",
       "    <tr>\n",
       "      <th>4</th>\n",
       "      <td>5</td>\n",
       "      <td>5</td>\n",
       "      <td>2023-01-01 00:04:00</td>\n",
       "      <td>784.31</td>\n",
       "      <td>Target</td>\n",
       "      <td>Travel</td>\n",
       "      <td>Debit Card</td>\n",
       "      <td>39</td>\n",
       "      <td>Other</td>\n",
       "      <td>San Diego</td>\n",
       "      <td>46409.56</td>\n",
       "    </tr>\n",
       "  </tbody>\n",
       "</table>\n",
       "</div>"
      ],
      "text/plain": [
       "   CustomerID  TransactionID                 Date   Amount MerchantName  \\\n",
       "0           1              1  2023-01-01 00:00:00  1875.83        Apple   \n",
       "1           2              2  2023-01-01 00:01:00  4753.82       Costco   \n",
       "2           3              3  2023-01-01 00:02:00  3661.31      Walmart   \n",
       "3           4              4  2023-01-01 00:03:00  2995.30         eBay   \n",
       "4           5              5  2023-01-01 00:04:00   784.31       Target   \n",
       "\n",
       "      Category  PaymentMethod  Age  Gender     Location     Income  \n",
       "0  Electronics     Google Pay   42   Other     San Jose  128058.94  \n",
       "1        Other    Credit Card   67   Other  San Antonio  130317.66  \n",
       "2       Dining  Bank Transfer   39  Female    San Diego   37583.73  \n",
       "3    Utilities     Google Pay   56    Male      Phoenix   66107.10  \n",
       "4       Travel     Debit Card   39   Other    San Diego   46409.56  "
      ]
     },
     "execution_count": 6,
     "metadata": {},
     "output_type": "execute_result"
    }
   ],
   "source": [
    "credit.head(5)"
   ]
  },
  {
   "cell_type": "markdown",
   "id": "cd5b8f95-8496-483c-9c52-f39b4c96f0cb",
   "metadata": {},
   "source": [
    "#### Number of rows (records in the dataset)"
   ]
  },
  {
   "cell_type": "code",
   "execution_count": 7,
   "id": "30ee81d6-1331-4924-97e4-ed7e05e90076",
   "metadata": {},
   "outputs": [
    {
     "data": {
      "text/plain": [
       "(10000, 11)"
      ]
     },
     "execution_count": 7,
     "metadata": {},
     "output_type": "execute_result"
    }
   ],
   "source": [
    "credit.shape"
   ]
  },
  {
   "cell_type": "markdown",
   "id": "2c10939b-097f-4365-9914-8f70b5b41f8c",
   "metadata": {},
   "source": [
    "#### Checking for duplicate"
   ]
  },
  {
   "cell_type": "code",
   "execution_count": 8,
   "id": "098e3de2-8174-42b3-a812-90585d399aae",
   "metadata": {},
   "outputs": [
    {
     "data": {
      "text/plain": [
       "0"
      ]
     },
     "execution_count": 8,
     "metadata": {},
     "output_type": "execute_result"
    }
   ],
   "source": [
    "credit.duplicated().sum()"
   ]
  },
  {
   "cell_type": "code",
   "execution_count": 9,
   "id": "2826c9f1-be67-478f-b7ce-bcbb5d7c6da7",
   "metadata": {},
   "outputs": [
    {
     "data": {
      "text/plain": [
       "CustomerID         int64\n",
       "TransactionID      int64\n",
       "Date              object\n",
       "Amount           float64\n",
       "MerchantName      object\n",
       "Category          object\n",
       "PaymentMethod     object\n",
       "Age                int64\n",
       "Gender            object\n",
       "Location          object\n",
       "Income           float64\n",
       "dtype: object"
      ]
     },
     "execution_count": 9,
     "metadata": {},
     "output_type": "execute_result"
    }
   ],
   "source": [
    "credit.dtypes"
   ]
  },
  {
   "cell_type": "markdown",
   "id": "49ed4f4b-b915-4783-81ab-c17be1049f0c",
   "metadata": {},
   "source": [
    "#### Changing the Date data-type"
   ]
  },
  {
   "cell_type": "code",
   "execution_count": 10,
   "id": "fe695b57-5eff-40b4-acde-0dfee5244d34",
   "metadata": {},
   "outputs": [],
   "source": [
    "credit['Date'] = pd.to_datetime(credit['Date'])"
   ]
  },
  {
   "cell_type": "code",
   "execution_count": 11,
   "id": "fc07c708-e324-4a3a-bd0a-35b8acbaeed6",
   "metadata": {},
   "outputs": [
    {
     "data": {
      "text/plain": [
       "CustomerID                int64\n",
       "TransactionID             int64\n",
       "Date             datetime64[ns]\n",
       "Amount                  float64\n",
       "MerchantName             object\n",
       "Category                 object\n",
       "PaymentMethod            object\n",
       "Age                       int64\n",
       "Gender                   object\n",
       "Location                 object\n",
       "Income                  float64\n",
       "dtype: object"
      ]
     },
     "execution_count": 11,
     "metadata": {},
     "output_type": "execute_result"
    }
   ],
   "source": [
    "credit.dtypes"
   ]
  },
  {
   "cell_type": "markdown",
   "id": "2877b75e-e544-47fb-9929-e7a30d2dc1b6",
   "metadata": {},
   "source": [
    "#### Heading to the dataframe"
   ]
  },
  {
   "cell_type": "code",
   "execution_count": 29,
   "id": "434fc08e-03b4-40d1-99ae-2ba473cc960c",
   "metadata": {},
   "outputs": [],
   "source": [
    "#credit.style.set_caption('Credit Dataset for Sales')"
   ]
  },
  {
   "cell_type": "code",
   "execution_count": 13,
   "id": "4f737d5f-1c76-46ae-9b09-4120f857d972",
   "metadata": {},
   "outputs": [
    {
     "data": {
      "text/html": [
       "<div>\n",
       "<style scoped>\n",
       "    .dataframe tbody tr th:only-of-type {\n",
       "        vertical-align: middle;\n",
       "    }\n",
       "\n",
       "    .dataframe tbody tr th {\n",
       "        vertical-align: top;\n",
       "    }\n",
       "\n",
       "    .dataframe thead th {\n",
       "        text-align: right;\n",
       "    }\n",
       "</style>\n",
       "<table border=\"1\" class=\"dataframe\">\n",
       "  <thead>\n",
       "    <tr style=\"text-align: right;\">\n",
       "      <th></th>\n",
       "      <th>CustomerID</th>\n",
       "      <th>TransactionID</th>\n",
       "      <th>Date</th>\n",
       "      <th>Amount</th>\n",
       "      <th>MerchantName</th>\n",
       "      <th>Category</th>\n",
       "      <th>PaymentMethod</th>\n",
       "      <th>Age</th>\n",
       "      <th>Gender</th>\n",
       "      <th>Location</th>\n",
       "      <th>Income</th>\n",
       "    </tr>\n",
       "  </thead>\n",
       "  <tbody>\n",
       "    <tr>\n",
       "      <th>0</th>\n",
       "      <td>1</td>\n",
       "      <td>1</td>\n",
       "      <td>2023-01-01 00:00:00</td>\n",
       "      <td>1875.83</td>\n",
       "      <td>Apple</td>\n",
       "      <td>Electronics</td>\n",
       "      <td>Google Pay</td>\n",
       "      <td>42</td>\n",
       "      <td>Other</td>\n",
       "      <td>San Jose</td>\n",
       "      <td>128058.94</td>\n",
       "    </tr>\n",
       "    <tr>\n",
       "      <th>1</th>\n",
       "      <td>2</td>\n",
       "      <td>2</td>\n",
       "      <td>2023-01-01 00:01:00</td>\n",
       "      <td>4753.82</td>\n",
       "      <td>Costco</td>\n",
       "      <td>Other</td>\n",
       "      <td>Credit Card</td>\n",
       "      <td>67</td>\n",
       "      <td>Other</td>\n",
       "      <td>San Antonio</td>\n",
       "      <td>130317.66</td>\n",
       "    </tr>\n",
       "    <tr>\n",
       "      <th>2</th>\n",
       "      <td>3</td>\n",
       "      <td>3</td>\n",
       "      <td>2023-01-01 00:02:00</td>\n",
       "      <td>3661.31</td>\n",
       "      <td>Walmart</td>\n",
       "      <td>Dining</td>\n",
       "      <td>Bank Transfer</td>\n",
       "      <td>39</td>\n",
       "      <td>Female</td>\n",
       "      <td>San Diego</td>\n",
       "      <td>37583.73</td>\n",
       "    </tr>\n",
       "  </tbody>\n",
       "</table>\n",
       "</div>"
      ],
      "text/plain": [
       "   CustomerID  TransactionID                Date   Amount MerchantName  \\\n",
       "0           1              1 2023-01-01 00:00:00  1875.83        Apple   \n",
       "1           2              2 2023-01-01 00:01:00  4753.82       Costco   \n",
       "2           3              3 2023-01-01 00:02:00  3661.31      Walmart   \n",
       "\n",
       "      Category  PaymentMethod  Age  Gender     Location     Income  \n",
       "0  Electronics     Google Pay   42   Other     San Jose  128058.94  \n",
       "1        Other    Credit Card   67   Other  San Antonio  130317.66  \n",
       "2       Dining  Bank Transfer   39  Female    San Diego   37583.73  "
      ]
     },
     "execution_count": 13,
     "metadata": {},
     "output_type": "execute_result"
    }
   ],
   "source": [
    "credit.head(3)"
   ]
  },
  {
   "cell_type": "markdown",
   "id": "99ee5a89-d3b5-48a2-a7cd-b0062f4c6aa0",
   "metadata": {},
   "source": [
    "#### 1.\tWhat are the most common types of transactions among the customers?"
   ]
  },
  {
   "cell_type": "code",
   "execution_count": 14,
   "id": "079824ad-75d7-4185-99c8-5284c4de4fe1",
   "metadata": {},
   "outputs": [
    {
     "data": {
      "text/plain": [
       "Category\n",
       "Dining           1083\n",
       "Clothing         1025\n",
       "Entertainment    1020\n",
       "Travel           1019\n",
       "Name: count, dtype: int64"
      ]
     },
     "execution_count": 14,
     "metadata": {},
     "output_type": "execute_result"
    }
   ],
   "source": [
    "credit['Category'].value_counts(ascending=False).head(4)"
   ]
  },
  {
   "cell_type": "markdown",
   "id": "aa643b3f-6f15-4adb-a53e-0fc9e2decc07",
   "metadata": {},
   "source": [
    "#### 2.\tWhat is the average transaction amount for different customer age groups?"
   ]
  },
  {
   "cell_type": "code",
   "execution_count": 15,
   "id": "bc385430-a464-416a-a030-7973cb55c081",
   "metadata": {},
   "outputs": [],
   "source": [
    "#credit.head(3)"
   ]
  },
  {
   "cell_type": "code",
   "execution_count": 16,
   "id": "101b4d67-0f29-41c4-b830-a58b64f1e246",
   "metadata": {},
   "outputs": [],
   "source": [
    "#credit['Age'].max()\n",
    "#credit['Age'].min()"
   ]
  },
  {
   "cell_type": "code",
   "execution_count": 17,
   "id": "5750f84b-a166-4d34-ad12-4a0707e54f9f",
   "metadata": {},
   "outputs": [
    {
     "name": "stderr",
     "output_type": "stream",
     "text": [
      "C:\\Users\\USER\\AppData\\Local\\Temp\\ipykernel_260\\1964785005.py:6: FutureWarning: The default of observed=False is deprecated and will be changed to True in a future version of pandas. Pass observed=False to retain current behavior or observed=True to adopt the future default and silence this warning.\n",
      "  avg_amount = credit.groupby('AgeGroup')['Amount'].mean().reset_index()\n"
     ]
    },
    {
     "data": {
      "text/html": [
       "<div>\n",
       "<style scoped>\n",
       "    .dataframe tbody tr th:only-of-type {\n",
       "        vertical-align: middle;\n",
       "    }\n",
       "\n",
       "    .dataframe tbody tr th {\n",
       "        vertical-align: top;\n",
       "    }\n",
       "\n",
       "    .dataframe thead th {\n",
       "        text-align: right;\n",
       "    }\n",
       "</style>\n",
       "<table border=\"1\" class=\"dataframe\">\n",
       "  <thead>\n",
       "    <tr style=\"text-align: right;\">\n",
       "      <th></th>\n",
       "      <th>AgeGroup</th>\n",
       "      <th>Amount</th>\n",
       "    </tr>\n",
       "  </thead>\n",
       "  <tbody>\n",
       "    <tr>\n",
       "      <th>0</th>\n",
       "      <td>0-20</td>\n",
       "      <td>2285.756154</td>\n",
       "    </tr>\n",
       "    <tr>\n",
       "      <th>1</th>\n",
       "      <td>21-30</td>\n",
       "      <td>2529.241202</td>\n",
       "    </tr>\n",
       "    <tr>\n",
       "      <th>2</th>\n",
       "      <td>31-40</td>\n",
       "      <td>2427.149630</td>\n",
       "    </tr>\n",
       "    <tr>\n",
       "      <th>3</th>\n",
       "      <td>41-50</td>\n",
       "      <td>2507.317748</td>\n",
       "    </tr>\n",
       "    <tr>\n",
       "      <th>4</th>\n",
       "      <td>51-60</td>\n",
       "      <td>2462.872013</td>\n",
       "    </tr>\n",
       "    <tr>\n",
       "      <th>5</th>\n",
       "      <td>61-70</td>\n",
       "      <td>2475.253956</td>\n",
       "    </tr>\n",
       "    <tr>\n",
       "      <th>6</th>\n",
       "      <td>71-80</td>\n",
       "      <td>2473.277551</td>\n",
       "    </tr>\n",
       "  </tbody>\n",
       "</table>\n",
       "</div>"
      ],
      "text/plain": [
       "  AgeGroup       Amount\n",
       "0     0-20  2285.756154\n",
       "1    21-30  2529.241202\n",
       "2    31-40  2427.149630\n",
       "3    41-50  2507.317748\n",
       "4    51-60  2462.872013\n",
       "5    61-70  2475.253956\n",
       "6    71-80  2473.277551"
      ]
     },
     "execution_count": 17,
     "metadata": {},
     "output_type": "execute_result"
    }
   ],
   "source": [
    "bins = [0, 20, 30, 40, 50, 60, 70, 80]\n",
    "labels = ['0-20', '21-30', '31-40', '41-50', '51-60', '61-70', '71-80']\n",
    "credit['AgeGroup'] = pd.cut(credit['Age'], bins=bins, labels=labels, right=False)\n",
    "\n",
    "# Calculate average transaction amount for each age group\n",
    "avg_amount = credit.groupby('AgeGroup')['Amount'].mean().reset_index()\n",
    "avg_amount"
   ]
  },
  {
   "cell_type": "markdown",
   "id": "f8f9400f-e103-4b31-a1b5-f356655bbfdf",
   "metadata": {},
   "source": [
    "#### 3.\tWhich regions have the highest average spending per transaction?"
   ]
  },
  {
   "cell_type": "code",
   "execution_count": 18,
   "id": "f9907f03-f713-4b06-8fe0-2423bde06ed5",
   "metadata": {},
   "outputs": [],
   "source": [
    "#credit.head(3)"
   ]
  },
  {
   "cell_type": "code",
   "execution_count": 19,
   "id": "f59a1e4a-981a-4f90-a157-1e5545ce0d54",
   "metadata": {},
   "outputs": [
    {
     "data": {
      "text/plain": [
       "Location\n",
       "Philadelphia    2512.472597\n",
       "Chicago         2503.059725\n",
       "San Antonio     2489.733853\n",
       "New York        2482.629329\n",
       "Phoenix         2477.499015\n",
       "San Diego       2475.093533\n",
       "Houston         2466.417573\n",
       "San Jose        2452.921159\n",
       "Dallas          2449.245617\n",
       "Los Angeles     2424.222537\n",
       "Name: Amount, dtype: float64"
      ]
     },
     "execution_count": 19,
     "metadata": {},
     "output_type": "execute_result"
    }
   ],
   "source": [
    "Reg =credit.groupby(['Location'])\n",
    "Avg_spe = Reg['Amount'].mean().sort_values(ascending=False)\n",
    "Avg_spe"
   ]
  },
  {
   "cell_type": "markdown",
   "id": "693dc862-2762-4dee-aaf1-57dbbebc4712",
   "metadata": {},
   "source": [
    "#### 4.What is the distribution of transaction amounts during different months of the year?"
   ]
  },
  {
   "cell_type": "code",
   "execution_count": 20,
   "id": "9932f017-c22d-4348-8b1a-ca66b75df757",
   "metadata": {},
   "outputs": [
    {
     "data": {
      "text/html": [
       "<div>\n",
       "<style scoped>\n",
       "    .dataframe tbody tr th:only-of-type {\n",
       "        vertical-align: middle;\n",
       "    }\n",
       "\n",
       "    .dataframe tbody tr th {\n",
       "        vertical-align: top;\n",
       "    }\n",
       "\n",
       "    .dataframe thead th {\n",
       "        text-align: right;\n",
       "    }\n",
       "</style>\n",
       "<table border=\"1\" class=\"dataframe\">\n",
       "  <thead>\n",
       "    <tr style=\"text-align: right;\">\n",
       "      <th></th>\n",
       "      <th>CustomerID</th>\n",
       "      <th>TransactionID</th>\n",
       "      <th>Date</th>\n",
       "      <th>Amount</th>\n",
       "      <th>MerchantName</th>\n",
       "      <th>Category</th>\n",
       "      <th>PaymentMethod</th>\n",
       "      <th>Age</th>\n",
       "      <th>Gender</th>\n",
       "      <th>Location</th>\n",
       "      <th>Income</th>\n",
       "      <th>AgeGroup</th>\n",
       "    </tr>\n",
       "  </thead>\n",
       "  <tbody>\n",
       "    <tr>\n",
       "      <th>0</th>\n",
       "      <td>1</td>\n",
       "      <td>1</td>\n",
       "      <td>2023-01-01 00:00:00</td>\n",
       "      <td>1875.83</td>\n",
       "      <td>Apple</td>\n",
       "      <td>Electronics</td>\n",
       "      <td>Google Pay</td>\n",
       "      <td>42</td>\n",
       "      <td>Other</td>\n",
       "      <td>San Jose</td>\n",
       "      <td>128058.94</td>\n",
       "      <td>41-50</td>\n",
       "    </tr>\n",
       "    <tr>\n",
       "      <th>1</th>\n",
       "      <td>2</td>\n",
       "      <td>2</td>\n",
       "      <td>2023-01-01 00:01:00</td>\n",
       "      <td>4753.82</td>\n",
       "      <td>Costco</td>\n",
       "      <td>Other</td>\n",
       "      <td>Credit Card</td>\n",
       "      <td>67</td>\n",
       "      <td>Other</td>\n",
       "      <td>San Antonio</td>\n",
       "      <td>130317.66</td>\n",
       "      <td>61-70</td>\n",
       "    </tr>\n",
       "    <tr>\n",
       "      <th>2</th>\n",
       "      <td>3</td>\n",
       "      <td>3</td>\n",
       "      <td>2023-01-01 00:02:00</td>\n",
       "      <td>3661.31</td>\n",
       "      <td>Walmart</td>\n",
       "      <td>Dining</td>\n",
       "      <td>Bank Transfer</td>\n",
       "      <td>39</td>\n",
       "      <td>Female</td>\n",
       "      <td>San Diego</td>\n",
       "      <td>37583.73</td>\n",
       "      <td>31-40</td>\n",
       "    </tr>\n",
       "  </tbody>\n",
       "</table>\n",
       "</div>"
      ],
      "text/plain": [
       "   CustomerID  TransactionID                Date   Amount MerchantName  \\\n",
       "0           1              1 2023-01-01 00:00:00  1875.83        Apple   \n",
       "1           2              2 2023-01-01 00:01:00  4753.82       Costco   \n",
       "2           3              3 2023-01-01 00:02:00  3661.31      Walmart   \n",
       "\n",
       "      Category  PaymentMethod  Age  Gender     Location     Income AgeGroup  \n",
       "0  Electronics     Google Pay   42   Other     San Jose  128058.94    41-50  \n",
       "1        Other    Credit Card   67   Other  San Antonio  130317.66    61-70  \n",
       "2       Dining  Bank Transfer   39  Female    San Diego   37583.73    31-40  "
      ]
     },
     "execution_count": 20,
     "metadata": {},
     "output_type": "execute_result"
    }
   ],
   "source": [
    "credit.head(3)"
   ]
  },
  {
   "cell_type": "code",
   "execution_count": 21,
   "id": "453a7fc6-cf95-42ef-be51-bb8b0a48d15f",
   "metadata": {},
   "outputs": [],
   "source": [
    "credit['month']=credit.Date.dt.month"
   ]
  },
  {
   "cell_type": "code",
   "execution_count": 22,
   "id": "6b33d1d0-194c-4647-94eb-3ccd7f607d9d",
   "metadata": {},
   "outputs": [
    {
     "data": {
      "text/html": [
       "<div>\n",
       "<style scoped>\n",
       "    .dataframe tbody tr th:only-of-type {\n",
       "        vertical-align: middle;\n",
       "    }\n",
       "\n",
       "    .dataframe tbody tr th {\n",
       "        vertical-align: top;\n",
       "    }\n",
       "\n",
       "    .dataframe thead th {\n",
       "        text-align: right;\n",
       "    }\n",
       "</style>\n",
       "<table border=\"1\" class=\"dataframe\">\n",
       "  <thead>\n",
       "    <tr style=\"text-align: right;\">\n",
       "      <th></th>\n",
       "      <th>CustomerID</th>\n",
       "      <th>TransactionID</th>\n",
       "      <th>Date</th>\n",
       "      <th>Amount</th>\n",
       "      <th>MerchantName</th>\n",
       "      <th>Category</th>\n",
       "      <th>PaymentMethod</th>\n",
       "      <th>Age</th>\n",
       "      <th>Gender</th>\n",
       "      <th>Location</th>\n",
       "      <th>Income</th>\n",
       "      <th>AgeGroup</th>\n",
       "      <th>month</th>\n",
       "    </tr>\n",
       "  </thead>\n",
       "  <tbody>\n",
       "    <tr>\n",
       "      <th>0</th>\n",
       "      <td>1</td>\n",
       "      <td>1</td>\n",
       "      <td>2023-01-01 00:00:00</td>\n",
       "      <td>1875.83</td>\n",
       "      <td>Apple</td>\n",
       "      <td>Electronics</td>\n",
       "      <td>Google Pay</td>\n",
       "      <td>42</td>\n",
       "      <td>Other</td>\n",
       "      <td>San Jose</td>\n",
       "      <td>128058.94</td>\n",
       "      <td>41-50</td>\n",
       "      <td>1</td>\n",
       "    </tr>\n",
       "    <tr>\n",
       "      <th>1</th>\n",
       "      <td>2</td>\n",
       "      <td>2</td>\n",
       "      <td>2023-01-01 00:01:00</td>\n",
       "      <td>4753.82</td>\n",
       "      <td>Costco</td>\n",
       "      <td>Other</td>\n",
       "      <td>Credit Card</td>\n",
       "      <td>67</td>\n",
       "      <td>Other</td>\n",
       "      <td>San Antonio</td>\n",
       "      <td>130317.66</td>\n",
       "      <td>61-70</td>\n",
       "      <td>1</td>\n",
       "    </tr>\n",
       "    <tr>\n",
       "      <th>2</th>\n",
       "      <td>3</td>\n",
       "      <td>3</td>\n",
       "      <td>2023-01-01 00:02:00</td>\n",
       "      <td>3661.31</td>\n",
       "      <td>Walmart</td>\n",
       "      <td>Dining</td>\n",
       "      <td>Bank Transfer</td>\n",
       "      <td>39</td>\n",
       "      <td>Female</td>\n",
       "      <td>San Diego</td>\n",
       "      <td>37583.73</td>\n",
       "      <td>31-40</td>\n",
       "      <td>1</td>\n",
       "    </tr>\n",
       "  </tbody>\n",
       "</table>\n",
       "</div>"
      ],
      "text/plain": [
       "   CustomerID  TransactionID                Date   Amount MerchantName  \\\n",
       "0           1              1 2023-01-01 00:00:00  1875.83        Apple   \n",
       "1           2              2 2023-01-01 00:01:00  4753.82       Costco   \n",
       "2           3              3 2023-01-01 00:02:00  3661.31      Walmart   \n",
       "\n",
       "      Category  PaymentMethod  Age  Gender     Location     Income AgeGroup  \\\n",
       "0  Electronics     Google Pay   42   Other     San Jose  128058.94    41-50   \n",
       "1        Other    Credit Card   67   Other  San Antonio  130317.66    61-70   \n",
       "2       Dining  Bank Transfer   39  Female    San Diego   37583.73    31-40   \n",
       "\n",
       "   month  \n",
       "0      1  \n",
       "1      1  \n",
       "2      1  "
      ]
     },
     "execution_count": 22,
     "metadata": {},
     "output_type": "execute_result"
    }
   ],
   "source": [
    "credit.head(3)"
   ]
  },
  {
   "cell_type": "code",
   "execution_count": 23,
   "id": "ab5b7d44-53af-49b4-abcc-21132318e68b",
   "metadata": {},
   "outputs": [
    {
     "data": {
      "text/plain": [
       "array(['Electronics', 'Other', 'Dining', 'Utilities', 'Travel',\n",
       "       'Entertainment', 'Clothing', 'Groceries', 'Education', 'Health'],\n",
       "      dtype=object)"
      ]
     },
     "execution_count": 23,
     "metadata": {},
     "output_type": "execute_result"
    }
   ],
   "source": [
    "credit.Category.unique()"
   ]
  },
  {
   "cell_type": "code",
   "execution_count": 24,
   "id": "9bcc2897-3c50-4622-a3e1-150059dd1656",
   "metadata": {},
   "outputs": [
    {
     "data": {
      "text/plain": [
       "Category\n",
       "Dining           1083\n",
       "Clothing         1025\n",
       "Entertainment    1020\n",
       "Travel           1019\n",
       "Education         990\n",
       "Health            990\n",
       "Other             989\n",
       "Utilities         986\n",
       "Electronics       959\n",
       "Groceries         939\n",
       "Name: count, dtype: int64"
      ]
     },
     "execution_count": 24,
     "metadata": {},
     "output_type": "execute_result"
    }
   ],
   "source": [
    "credit.Category.value_counts()"
   ]
  },
  {
   "cell_type": "code",
   "execution_count": 25,
   "id": "c1074141-cce6-45d6-9966-19c13451fa62",
   "metadata": {},
   "outputs": [
    {
     "data": {
      "text/plain": [
       "PaymentMethod\n",
       "Bank Transfer    1747\n",
       "Apple Pay        1705\n",
       "Debit Card       1652\n",
       "Credit Card      1642\n",
       "Google Pay       1632\n",
       "PayPal           1622\n",
       "Name: count, dtype: int64"
      ]
     },
     "execution_count": 25,
     "metadata": {},
     "output_type": "execute_result"
    }
   ],
   "source": [
    "credit.PaymentMethod.value_counts()"
   ]
  },
  {
   "cell_type": "code",
   "execution_count": null,
   "id": "4ce9e3ba-ed12-47da-91c1-7655cbcd9ea6",
   "metadata": {},
   "outputs": [],
   "source": []
  }
 ],
 "metadata": {
  "kernelspec": {
   "display_name": "Python 3 (ipykernel)",
   "language": "python",
   "name": "python3"
  },
  "language_info": {
   "codemirror_mode": {
    "name": "ipython",
    "version": 3
   },
   "file_extension": ".py",
   "mimetype": "text/x-python",
   "name": "python",
   "nbconvert_exporter": "python",
   "pygments_lexer": "ipython3",
   "version": "3.12.4"
  }
 },
 "nbformat": 4,
 "nbformat_minor": 5
}
