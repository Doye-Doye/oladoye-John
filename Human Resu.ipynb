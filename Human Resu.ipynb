{
 "cells": [
  {
   "cell_type": "code",
   "execution_count": 20,
   "id": "5d277f48-4984-4703-a7d8-f64585ecefc4",
   "metadata": {},
   "outputs": [],
   "source": [
    "import pandas as pd\n",
    "import numpy as np"
   ]
  },
  {
   "cell_type": "code",
   "execution_count": 2,
   "id": "dfd06a16-1668-4ad5-a1ce-218e08f978a1",
   "metadata": {},
   "outputs": [],
   "source": [
    "human = pd.read_csv(r'C:\\Users\\USER\\Desktop\\portfolio\\working_Human_Res.csv')"
   ]
  },
  {
   "cell_type": "code",
   "execution_count": 3,
   "id": "f464d19c-816c-431f-b0b7-486ab67cfaf8",
   "metadata": {},
   "outputs": [
    {
     "data": {
      "text/html": [
       "<div>\n",
       "<style scoped>\n",
       "    .dataframe tbody tr th:only-of-type {\n",
       "        vertical-align: middle;\n",
       "    }\n",
       "\n",
       "    .dataframe tbody tr th {\n",
       "        vertical-align: top;\n",
       "    }\n",
       "\n",
       "    .dataframe thead th {\n",
       "        text-align: right;\n",
       "    }\n",
       "</style>\n",
       "<table border=\"1\" class=\"dataframe\">\n",
       "  <thead>\n",
       "    <tr style=\"text-align: right;\">\n",
       "      <th></th>\n",
       "      <th>id</th>\n",
       "      <th>first_name</th>\n",
       "      <th>last_name</th>\n",
       "      <th>birthdate</th>\n",
       "      <th>gender</th>\n",
       "      <th>race</th>\n",
       "      <th>department</th>\n",
       "      <th>jobtitle</th>\n",
       "      <th>location</th>\n",
       "      <th>hire_date</th>\n",
       "      <th>termdate</th>\n",
       "      <th>city</th>\n",
       "      <th>state</th>\n",
       "    </tr>\n",
       "  </thead>\n",
       "  <tbody>\n",
       "    <tr>\n",
       "      <th>0</th>\n",
       "      <td>37846</td>\n",
       "      <td>Kimmy</td>\n",
       "      <td>Walczynski</td>\n",
       "      <td>1991-06-04</td>\n",
       "      <td>Male</td>\n",
       "      <td>Hispanic or Latino</td>\n",
       "      <td>Engineering</td>\n",
       "      <td>Programmer Analyst I</td>\n",
       "      <td>Headquarters</td>\n",
       "      <td>2002-01-20</td>\n",
       "      <td>NaN</td>\n",
       "      <td>Cleveland</td>\n",
       "      <td>Ohio</td>\n",
       "    </tr>\n",
       "    <tr>\n",
       "      <th>1</th>\n",
       "      <td>41533</td>\n",
       "      <td>Ignatius</td>\n",
       "      <td>Springett</td>\n",
       "      <td>1984-06-29</td>\n",
       "      <td>Male</td>\n",
       "      <td>White</td>\n",
       "      <td>Business Development</td>\n",
       "      <td>Business Analyst</td>\n",
       "      <td>Headquarters</td>\n",
       "      <td>2019-04-08</td>\n",
       "      <td>NaN</td>\n",
       "      <td>Cleveland</td>\n",
       "      <td>Ohio</td>\n",
       "    </tr>\n",
       "    <tr>\n",
       "      <th>2</th>\n",
       "      <td>45747</td>\n",
       "      <td>Corbie</td>\n",
       "      <td>Bittlestone</td>\n",
       "      <td>1989-07-29</td>\n",
       "      <td>Male</td>\n",
       "      <td>Black or African American</td>\n",
       "      <td>Sales</td>\n",
       "      <td>Solutions Engineer Manager</td>\n",
       "      <td>Headquarters</td>\n",
       "      <td>2010-10-12</td>\n",
       "      <td>NaN</td>\n",
       "      <td>Cleveland</td>\n",
       "      <td>Ohio</td>\n",
       "    </tr>\n",
       "    <tr>\n",
       "      <th>3</th>\n",
       "      <td>55274</td>\n",
       "      <td>Baxy</td>\n",
       "      <td>Matton</td>\n",
       "      <td>1982-09-14</td>\n",
       "      <td>Female</td>\n",
       "      <td>White</td>\n",
       "      <td>Services</td>\n",
       "      <td>Service Tech</td>\n",
       "      <td>Headquarters</td>\n",
       "      <td>2005-04-10</td>\n",
       "      <td>NaN</td>\n",
       "      <td>Cleveland</td>\n",
       "      <td>Ohio</td>\n",
       "    </tr>\n",
       "    <tr>\n",
       "      <th>4</th>\n",
       "      <td>76100</td>\n",
       "      <td>Terrell</td>\n",
       "      <td>Suff</td>\n",
       "      <td>1994-04-11</td>\n",
       "      <td>Female</td>\n",
       "      <td>Two or More Races</td>\n",
       "      <td>Product Management</td>\n",
       "      <td>Business Analyst</td>\n",
       "      <td>Remote</td>\n",
       "      <td>2010-09-29</td>\n",
       "      <td>2029-10-29 06:09:38 UTC</td>\n",
       "      <td>Flint</td>\n",
       "      <td>Michigan</td>\n",
       "    </tr>\n",
       "  </tbody>\n",
       "</table>\n",
       "</div>"
      ],
      "text/plain": [
       "      id first_name    last_name   birthdate  gender  \\\n",
       "0  37846      Kimmy   Walczynski  1991-06-04    Male   \n",
       "1  41533   Ignatius    Springett  1984-06-29    Male   \n",
       "2  45747     Corbie  Bittlestone  1989-07-29    Male   \n",
       "3  55274       Baxy       Matton  1982-09-14  Female   \n",
       "4  76100    Terrell         Suff  1994-04-11  Female   \n",
       "\n",
       "                        race            department  \\\n",
       "0         Hispanic or Latino           Engineering   \n",
       "1                      White  Business Development   \n",
       "2  Black or African American                 Sales   \n",
       "3                      White              Services   \n",
       "4          Two or More Races    Product Management   \n",
       "\n",
       "                     jobtitle      location   hire_date  \\\n",
       "0        Programmer Analyst I  Headquarters  2002-01-20   \n",
       "1            Business Analyst  Headquarters  2019-04-08   \n",
       "2  Solutions Engineer Manager  Headquarters  2010-10-12   \n",
       "3                Service Tech  Headquarters  2005-04-10   \n",
       "4            Business Analyst        Remote  2010-09-29   \n",
       "\n",
       "                  termdate       city     state  \n",
       "0                      NaN  Cleveland      Ohio  \n",
       "1                      NaN  Cleveland      Ohio  \n",
       "2                      NaN  Cleveland      Ohio  \n",
       "3                      NaN  Cleveland      Ohio  \n",
       "4  2029-10-29 06:09:38 UTC      Flint  Michigan  "
      ]
     },
     "execution_count": 3,
     "metadata": {},
     "output_type": "execute_result"
    }
   ],
   "source": [
    "human.head()"
   ]
  },
  {
   "cell_type": "code",
   "execution_count": 4,
   "id": "507c77bb-0778-4926-9872-bf5d9cc0b690",
   "metadata": {},
   "outputs": [
    {
     "data": {
      "text/plain": [
       "(22214, 13)"
      ]
     },
     "execution_count": 4,
     "metadata": {},
     "output_type": "execute_result"
    }
   ],
   "source": [
    "human.shape"
   ]
  },
  {
   "cell_type": "code",
   "execution_count": 5,
   "id": "ef8d6343-3605-4e2a-b9ca-1355d8b0d63b",
   "metadata": {},
   "outputs": [
    {
     "data": {
      "text/plain": [
       "0"
      ]
     },
     "execution_count": 5,
     "metadata": {},
     "output_type": "execute_result"
    }
   ],
   "source": [
    "human.duplicated().sum()"
   ]
  },
  {
   "cell_type": "markdown",
   "id": "19cc2c3f-9949-4011-a66b-f060714e7757",
   "metadata": {},
   "source": [
    "#### Employee locations"
   ]
  },
  {
   "cell_type": "code",
   "execution_count": 6,
   "id": "5a32f6b4-df92-4970-af29-242b14173749",
   "metadata": {},
   "outputs": [
    {
     "data": {
      "text/plain": [
       "location\n",
       "Headquarters    16715\n",
       "Remote           5499\n",
       "Name: count, dtype: int64"
      ]
     },
     "execution_count": 6,
     "metadata": {},
     "output_type": "execute_result"
    }
   ],
   "source": [
    "human['location'].value_counts()"
   ]
  },
  {
   "cell_type": "markdown",
   "id": "5ee6f04d-2d8c-4027-b7a2-d6c057ab6e7c",
   "metadata": {},
   "source": [
    "#### Number of Employee"
   ]
  },
  {
   "cell_type": "code",
   "execution_count": 7,
   "id": "70ab9de0-2b03-4f4d-99dd-0ecb7be90779",
   "metadata": {},
   "outputs": [
    {
     "data": {
      "text/plain": [
       "22214"
      ]
     },
     "execution_count": 7,
     "metadata": {},
     "output_type": "execute_result"
    }
   ],
   "source": [
    "human['id'].nunique()"
   ]
  },
  {
   "cell_type": "markdown",
   "id": "59b26495-e863-4dac-9a19-2842b4b47ba8",
   "metadata": {},
   "source": [
    "#### Number of Department"
   ]
  },
  {
   "cell_type": "code",
   "execution_count": 8,
   "id": "4390e571-f59c-4f2b-a3a7-2856d54a09ea",
   "metadata": {},
   "outputs": [
    {
     "data": {
      "text/plain": [
       "13"
      ]
     },
     "execution_count": 8,
     "metadata": {},
     "output_type": "execute_result"
    }
   ],
   "source": [
    "human['department'].nunique()"
   ]
  },
  {
   "cell_type": "markdown",
   "id": "45831c70-af53-4500-af13-df3a7bc910b5",
   "metadata": {},
   "source": [
    "#### Number of Employees with termination date"
   ]
  },
  {
   "cell_type": "code",
   "execution_count": 9,
   "id": "f3ca591c-117a-426d-be3d-d7848e6e387b",
   "metadata": {},
   "outputs": [
    {
     "data": {
      "text/plain": [
       "3929"
      ]
     },
     "execution_count": 9,
     "metadata": {},
     "output_type": "execute_result"
    }
   ],
   "source": [
    "human['termdate'].nunique()"
   ]
  },
  {
   "cell_type": "code",
   "execution_count": 10,
   "id": "10b232f1-a7bf-4aa3-a41f-ed98ca758da5",
   "metadata": {},
   "outputs": [
    {
     "data": {
      "text/plain": [
       "id            22214\n",
       "first_name     7758\n",
       "last_name     17754\n",
       "birthdate     10854\n",
       "gender            3\n",
       "race              7\n",
       "department       13\n",
       "jobtitle        185\n",
       "location          2\n",
       "hire_date      7016\n",
       "termdate       3929\n",
       "city             77\n",
       "state             7\n",
       "dtype: int64"
      ]
     },
     "execution_count": 10,
     "metadata": {},
     "output_type": "execute_result"
    }
   ],
   "source": [
    "human.nunique()"
   ]
  },
  {
   "cell_type": "markdown",
   "id": "ff5080af-d2c4-40fd-9a32-44ba9ccdbe39",
   "metadata": {},
   "source": [
    "#### Number of Employees By Department"
   ]
  },
  {
   "cell_type": "code",
   "execution_count": 11,
   "id": "9463e4fd-7a09-4f43-96be-43b4d0e44587",
   "metadata": {},
   "outputs": [
    {
     "data": {
      "text/plain": [
       "department\n",
       "Engineering                 6686\n",
       "Accounting                  3333\n",
       "Sales                       1832\n",
       "Human Resources             1807\n",
       "Training                    1692\n",
       "Services                    1686\n",
       "Business Development        1642\n",
       "Research and Development    1084\n",
       "Support                      954\n",
       "Product Management           641\n",
       "Marketing                    494\n",
       "Legal                        311\n",
       "Auditing                      52\n",
       "Name: count, dtype: int64"
      ]
     },
     "execution_count": 11,
     "metadata": {},
     "output_type": "execute_result"
    }
   ],
   "source": [
    "human['department'].value_counts()"
   ]
  },
  {
   "cell_type": "markdown",
   "id": "08bdf420-db74-4453-9ee2-eff1a3c85ec5",
   "metadata": {},
   "source": [
    "#### Number of Employees per State"
   ]
  },
  {
   "cell_type": "code",
   "execution_count": 12,
   "id": "5e08bd8f-523a-4185-904a-b24e770431fe",
   "metadata": {},
   "outputs": [
    {
     "data": {
      "text/plain": [
       "state\n",
       "Ohio            18025\n",
       "Pennsylvania     1115\n",
       "Illinois          868\n",
       "Indiana           700\n",
       "Michigan          673\n",
       "Kentucky          451\n",
       "Wisconsin         382\n",
       "Name: count, dtype: int64"
      ]
     },
     "execution_count": 12,
     "metadata": {},
     "output_type": "execute_result"
    }
   ],
   "source": [
    "human['state'].value_counts()"
   ]
  },
  {
   "cell_type": "markdown",
   "id": "8cc1f1d4-6e6e-4a4c-8a64-511ed3105f1f",
   "metadata": {},
   "source": [
    "#### Number of Employees per Race"
   ]
  },
  {
   "cell_type": "code",
   "execution_count": 13,
   "id": "f565e451-f617-4881-89c6-4f3250fd1847",
   "metadata": {},
   "outputs": [
    {
     "data": {
      "text/plain": [
       "race\n",
       "White                                        6328\n",
       "Two or More Races                            3648\n",
       "Black or African American                    3619\n",
       "Asian                                        3562\n",
       "Hispanic or Latino                           2501\n",
       "American Indian or Alaska Native             1327\n",
       "Native Hawaiian or Other Pacific Islander    1229\n",
       "Name: count, dtype: int64"
      ]
     },
     "execution_count": 13,
     "metadata": {},
     "output_type": "execute_result"
    }
   ],
   "source": [
    "human['race'].value_counts()"
   ]
  },
  {
   "cell_type": "code",
   "execution_count": 14,
   "id": "d84f3063-f0f6-40c4-8a47-236be7ec0449",
   "metadata": {},
   "outputs": [
    {
     "data": {
      "text/html": [
       "<div>\n",
       "<style scoped>\n",
       "    .dataframe tbody tr th:only-of-type {\n",
       "        vertical-align: middle;\n",
       "    }\n",
       "\n",
       "    .dataframe tbody tr th {\n",
       "        vertical-align: top;\n",
       "    }\n",
       "\n",
       "    .dataframe thead th {\n",
       "        text-align: right;\n",
       "    }\n",
       "</style>\n",
       "<table border=\"1\" class=\"dataframe\">\n",
       "  <thead>\n",
       "    <tr style=\"text-align: right;\">\n",
       "      <th></th>\n",
       "      <th>id</th>\n",
       "      <th>first_name</th>\n",
       "      <th>last_name</th>\n",
       "      <th>birthdate</th>\n",
       "      <th>gender</th>\n",
       "      <th>race</th>\n",
       "      <th>department</th>\n",
       "      <th>jobtitle</th>\n",
       "      <th>location</th>\n",
       "      <th>hire_date</th>\n",
       "      <th>termdate</th>\n",
       "      <th>city</th>\n",
       "      <th>state</th>\n",
       "    </tr>\n",
       "  </thead>\n",
       "  <tbody>\n",
       "    <tr>\n",
       "      <th>0</th>\n",
       "      <td>37846</td>\n",
       "      <td>Kimmy</td>\n",
       "      <td>Walczynski</td>\n",
       "      <td>1991-06-04</td>\n",
       "      <td>Male</td>\n",
       "      <td>Hispanic or Latino</td>\n",
       "      <td>Engineering</td>\n",
       "      <td>Programmer Analyst I</td>\n",
       "      <td>Headquarters</td>\n",
       "      <td>2002-01-20</td>\n",
       "      <td>NaN</td>\n",
       "      <td>Cleveland</td>\n",
       "      <td>Ohio</td>\n",
       "    </tr>\n",
       "    <tr>\n",
       "      <th>1</th>\n",
       "      <td>41533</td>\n",
       "      <td>Ignatius</td>\n",
       "      <td>Springett</td>\n",
       "      <td>1984-06-29</td>\n",
       "      <td>Male</td>\n",
       "      <td>White</td>\n",
       "      <td>Business Development</td>\n",
       "      <td>Business Analyst</td>\n",
       "      <td>Headquarters</td>\n",
       "      <td>2019-04-08</td>\n",
       "      <td>NaN</td>\n",
       "      <td>Cleveland</td>\n",
       "      <td>Ohio</td>\n",
       "    </tr>\n",
       "  </tbody>\n",
       "</table>\n",
       "</div>"
      ],
      "text/plain": [
       "      id first_name   last_name   birthdate gender                race  \\\n",
       "0  37846      Kimmy  Walczynski  1991-06-04   Male  Hispanic or Latino   \n",
       "1  41533   Ignatius   Springett  1984-06-29   Male               White   \n",
       "\n",
       "             department              jobtitle      location   hire_date  \\\n",
       "0           Engineering  Programmer Analyst I  Headquarters  2002-01-20   \n",
       "1  Business Development      Business Analyst  Headquarters  2019-04-08   \n",
       "\n",
       "  termdate       city state  \n",
       "0      NaN  Cleveland  Ohio  \n",
       "1      NaN  Cleveland  Ohio  "
      ]
     },
     "execution_count": 14,
     "metadata": {},
     "output_type": "execute_result"
    }
   ],
   "source": [
    "human.head(2)"
   ]
  },
  {
   "cell_type": "markdown",
   "id": "61a9c16a-3cfb-493e-b2d3-691ec6e1bee3",
   "metadata": {},
   "source": [
    "#### The following codes perform same function of filtring"
   ]
  },
  {
   "cell_type": "code",
   "execution_count": 19,
   "id": "1bdcf70d-d478-4ba5-ab1d-5bd62dc5051b",
   "metadata": {},
   "outputs": [
    {
     "data": {
      "text/html": [
       "<div>\n",
       "<style scoped>\n",
       "    .dataframe tbody tr th:only-of-type {\n",
       "        vertical-align: middle;\n",
       "    }\n",
       "\n",
       "    .dataframe tbody tr th {\n",
       "        vertical-align: top;\n",
       "    }\n",
       "\n",
       "    .dataframe thead th {\n",
       "        text-align: right;\n",
       "    }\n",
       "</style>\n",
       "<table border=\"1\" class=\"dataframe\">\n",
       "  <thead>\n",
       "    <tr style=\"text-align: right;\">\n",
       "      <th></th>\n",
       "      <th>id</th>\n",
       "      <th>first_name</th>\n",
       "      <th>last_name</th>\n",
       "      <th>birthdate</th>\n",
       "      <th>gender</th>\n",
       "      <th>race</th>\n",
       "      <th>department</th>\n",
       "      <th>jobtitle</th>\n",
       "      <th>location</th>\n",
       "      <th>hire_date</th>\n",
       "      <th>termdate</th>\n",
       "      <th>city</th>\n",
       "      <th>state</th>\n",
       "    </tr>\n",
       "  </thead>\n",
       "  <tbody>\n",
       "    <tr>\n",
       "      <th>0</th>\n",
       "      <td>37846</td>\n",
       "      <td>Kimmy</td>\n",
       "      <td>Walczynski</td>\n",
       "      <td>1991-06-04</td>\n",
       "      <td>Male</td>\n",
       "      <td>Hispanic or Latino</td>\n",
       "      <td>Engineering</td>\n",
       "      <td>Programmer Analyst I</td>\n",
       "      <td>Headquarters</td>\n",
       "      <td>2002-01-20</td>\n",
       "      <td>NaN</td>\n",
       "      <td>Cleveland</td>\n",
       "      <td>Ohio</td>\n",
       "    </tr>\n",
       "    <tr>\n",
       "      <th>1</th>\n",
       "      <td>41533</td>\n",
       "      <td>Ignatius</td>\n",
       "      <td>Springett</td>\n",
       "      <td>1984-06-29</td>\n",
       "      <td>Male</td>\n",
       "      <td>White</td>\n",
       "      <td>Business Development</td>\n",
       "      <td>Business Analyst</td>\n",
       "      <td>Headquarters</td>\n",
       "      <td>2019-04-08</td>\n",
       "      <td>NaN</td>\n",
       "      <td>Cleveland</td>\n",
       "      <td>Ohio</td>\n",
       "    </tr>\n",
       "    <tr>\n",
       "      <th>2</th>\n",
       "      <td>45747</td>\n",
       "      <td>Corbie</td>\n",
       "      <td>Bittlestone</td>\n",
       "      <td>1989-07-29</td>\n",
       "      <td>Male</td>\n",
       "      <td>Black or African American</td>\n",
       "      <td>Sales</td>\n",
       "      <td>Solutions Engineer Manager</td>\n",
       "      <td>Headquarters</td>\n",
       "      <td>2010-10-12</td>\n",
       "      <td>NaN</td>\n",
       "      <td>Cleveland</td>\n",
       "      <td>Ohio</td>\n",
       "    </tr>\n",
       "    <tr>\n",
       "      <th>3</th>\n",
       "      <td>55274</td>\n",
       "      <td>Baxy</td>\n",
       "      <td>Matton</td>\n",
       "      <td>1982-09-14</td>\n",
       "      <td>Female</td>\n",
       "      <td>White</td>\n",
       "      <td>Services</td>\n",
       "      <td>Service Tech</td>\n",
       "      <td>Headquarters</td>\n",
       "      <td>2005-04-10</td>\n",
       "      <td>NaN</td>\n",
       "      <td>Cleveland</td>\n",
       "      <td>Ohio</td>\n",
       "    </tr>\n",
       "    <tr>\n",
       "      <th>5</th>\n",
       "      <td>116166</td>\n",
       "      <td>Kacie</td>\n",
       "      <td>Offiler</td>\n",
       "      <td>1971-01-18</td>\n",
       "      <td>Male</td>\n",
       "      <td>Asian</td>\n",
       "      <td>Engineering</td>\n",
       "      <td>Developer III</td>\n",
       "      <td>Headquarters</td>\n",
       "      <td>2018-09-01</td>\n",
       "      <td>NaN</td>\n",
       "      <td>Cleveland</td>\n",
       "      <td>Ohio</td>\n",
       "    </tr>\n",
       "    <tr>\n",
       "      <th>...</th>\n",
       "      <td>...</td>\n",
       "      <td>...</td>\n",
       "      <td>...</td>\n",
       "      <td>...</td>\n",
       "      <td>...</td>\n",
       "      <td>...</td>\n",
       "      <td>...</td>\n",
       "      <td>...</td>\n",
       "      <td>...</td>\n",
       "      <td>...</td>\n",
       "      <td>...</td>\n",
       "      <td>...</td>\n",
       "      <td>...</td>\n",
       "    </tr>\n",
       "    <tr>\n",
       "      <th>22208</th>\n",
       "      <td>999610988</td>\n",
       "      <td>Hillie</td>\n",
       "      <td>Renbold</td>\n",
       "      <td>1965-10-30</td>\n",
       "      <td>Female</td>\n",
       "      <td>Two or More Races</td>\n",
       "      <td>Engineering</td>\n",
       "      <td>Web Developer II</td>\n",
       "      <td>Headquarters</td>\n",
       "      <td>2001-12-03</td>\n",
       "      <td>NaN</td>\n",
       "      <td>Cleveland</td>\n",
       "      <td>Ohio</td>\n",
       "    </tr>\n",
       "    <tr>\n",
       "      <th>22209</th>\n",
       "      <td>999797418</td>\n",
       "      <td>Dorella</td>\n",
       "      <td>Garvan</td>\n",
       "      <td>1998-07-08</td>\n",
       "      <td>Female</td>\n",
       "      <td>Hispanic or Latino</td>\n",
       "      <td>Research and Development</td>\n",
       "      <td>Research Assistant I</td>\n",
       "      <td>Headquarters</td>\n",
       "      <td>2012-02-08</td>\n",
       "      <td>NaN</td>\n",
       "      <td>Cleveland</td>\n",
       "      <td>Ohio</td>\n",
       "    </tr>\n",
       "    <tr>\n",
       "      <th>22210</th>\n",
       "      <td>999869877</td>\n",
       "      <td>Dasie</td>\n",
       "      <td>Thorsby</td>\n",
       "      <td>2001-04-19</td>\n",
       "      <td>Female</td>\n",
       "      <td>Two or More Races</td>\n",
       "      <td>Services</td>\n",
       "      <td>Service Manager</td>\n",
       "      <td>Headquarters</td>\n",
       "      <td>2017-10-06</td>\n",
       "      <td>NaN</td>\n",
       "      <td>Cleveland</td>\n",
       "      <td>Ohio</td>\n",
       "    </tr>\n",
       "    <tr>\n",
       "      <th>22211</th>\n",
       "      <td>999919822</td>\n",
       "      <td>Nerty</td>\n",
       "      <td>Wilding</td>\n",
       "      <td>1970-02-09</td>\n",
       "      <td>Female</td>\n",
       "      <td>Two or More Races</td>\n",
       "      <td>Training</td>\n",
       "      <td>Junior Trainer</td>\n",
       "      <td>Headquarters</td>\n",
       "      <td>2001-02-08</td>\n",
       "      <td>NaN</td>\n",
       "      <td>Cleveland</td>\n",
       "      <td>Ohio</td>\n",
       "    </tr>\n",
       "    <tr>\n",
       "      <th>22212</th>\n",
       "      <td>999960380</td>\n",
       "      <td>Mabelle</td>\n",
       "      <td>Dawks</td>\n",
       "      <td>1985-09-02</td>\n",
       "      <td>Male</td>\n",
       "      <td>Two or More Races</td>\n",
       "      <td>Accounting</td>\n",
       "      <td>Staff Accountant I</td>\n",
       "      <td>Headquarters</td>\n",
       "      <td>2005-04-03</td>\n",
       "      <td>2012-12-10 14:29:59 UTC</td>\n",
       "      <td>Cleveland</td>\n",
       "      <td>Ohio</td>\n",
       "    </tr>\n",
       "  </tbody>\n",
       "</table>\n",
       "<p>16715 rows × 13 columns</p>\n",
       "</div>"
      ],
      "text/plain": [
       "              id first_name    last_name   birthdate  gender  \\\n",
       "0          37846      Kimmy   Walczynski  1991-06-04    Male   \n",
       "1          41533   Ignatius    Springett  1984-06-29    Male   \n",
       "2          45747     Corbie  Bittlestone  1989-07-29    Male   \n",
       "3          55274       Baxy       Matton  1982-09-14  Female   \n",
       "5         116166      Kacie      Offiler  1971-01-18    Male   \n",
       "...          ...        ...          ...         ...     ...   \n",
       "22208  999610988     Hillie      Renbold  1965-10-30  Female   \n",
       "22209  999797418    Dorella       Garvan  1998-07-08  Female   \n",
       "22210  999869877      Dasie      Thorsby  2001-04-19  Female   \n",
       "22211  999919822      Nerty      Wilding  1970-02-09  Female   \n",
       "22212  999960380    Mabelle        Dawks  1985-09-02    Male   \n",
       "\n",
       "                            race                department  \\\n",
       "0             Hispanic or Latino               Engineering   \n",
       "1                          White      Business Development   \n",
       "2      Black or African American                     Sales   \n",
       "3                          White                  Services   \n",
       "5                          Asian               Engineering   \n",
       "...                          ...                       ...   \n",
       "22208          Two or More Races               Engineering   \n",
       "22209         Hispanic or Latino  Research and Development   \n",
       "22210          Two or More Races                  Services   \n",
       "22211          Two or More Races                  Training   \n",
       "22212          Two or More Races                Accounting   \n",
       "\n",
       "                         jobtitle      location   hire_date  \\\n",
       "0            Programmer Analyst I  Headquarters  2002-01-20   \n",
       "1                Business Analyst  Headquarters  2019-04-08   \n",
       "2      Solutions Engineer Manager  Headquarters  2010-10-12   \n",
       "3                    Service Tech  Headquarters  2005-04-10   \n",
       "5                   Developer III  Headquarters  2018-09-01   \n",
       "...                           ...           ...         ...   \n",
       "22208            Web Developer II  Headquarters  2001-12-03   \n",
       "22209        Research Assistant I  Headquarters  2012-02-08   \n",
       "22210             Service Manager  Headquarters  2017-10-06   \n",
       "22211              Junior Trainer  Headquarters  2001-02-08   \n",
       "22212          Staff Accountant I  Headquarters  2005-04-03   \n",
       "\n",
       "                      termdate       city state  \n",
       "0                          NaN  Cleveland  Ohio  \n",
       "1                          NaN  Cleveland  Ohio  \n",
       "2                          NaN  Cleveland  Ohio  \n",
       "3                          NaN  Cleveland  Ohio  \n",
       "5                          NaN  Cleveland  Ohio  \n",
       "...                        ...        ...   ...  \n",
       "22208                      NaN  Cleveland  Ohio  \n",
       "22209                      NaN  Cleveland  Ohio  \n",
       "22210                      NaN  Cleveland  Ohio  \n",
       "22211                      NaN  Cleveland  Ohio  \n",
       "22212  2012-12-10 14:29:59 UTC  Cleveland  Ohio  \n",
       "\n",
       "[16715 rows x 13 columns]"
      ]
     },
     "execution_count": 19,
     "metadata": {},
     "output_type": "execute_result"
    }
   ],
   "source": [
    "human.groupby('location').get_group('Headquarters')"
   ]
  },
  {
   "cell_type": "code",
   "execution_count": 16,
   "id": "a7a0f405-22d6-4676-8214-0dad5ac33a2a",
   "metadata": {},
   "outputs": [],
   "source": [
    "#human[human.location == 'Headquarters']"
   ]
  },
  {
   "cell_type": "code",
   "execution_count": 17,
   "id": "fdf2423b-9d09-43da-9de0-a3d9fb6f80ea",
   "metadata": {},
   "outputs": [],
   "source": [
    "#human[human['location']== 'Headquarters']"
   ]
  },
  {
   "cell_type": "code",
   "execution_count": 18,
   "id": "32545f20-01a8-4f2e-94ee-22637879cf11",
   "metadata": {},
   "outputs": [],
   "source": [
    "#human[human['location'].str.contains('Headquarters')]"
   ]
  },
  {
   "cell_type": "code",
   "execution_count": null,
   "id": "f5523925-5db9-4bd1-a0fb-110910ec2fd3",
   "metadata": {},
   "outputs": [],
   "source": []
  }
 ],
 "metadata": {
  "kernelspec": {
   "display_name": "Python 3 (ipykernel)",
   "language": "python",
   "name": "python3"
  },
  "language_info": {
   "codemirror_mode": {
    "name": "ipython",
    "version": 3
   },
   "file_extension": ".py",
   "mimetype": "text/x-python",
   "name": "python",
   "nbconvert_exporter": "python",
   "pygments_lexer": "ipython3",
   "version": "3.12.4"
  }
 },
 "nbformat": 4,
 "nbformat_minor": 5
}
